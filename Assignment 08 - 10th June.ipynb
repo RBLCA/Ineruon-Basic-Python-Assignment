{
 "cells": [
  {
   "cell_type": "markdown",
   "id": "a25f6ce1",
   "metadata": {},
   "source": [
    "# 1. In Python, what is the difference between a built-in function and a user-defined function? Provide an example of each."
   ]
  },
  {
   "cell_type": "markdown",
   "id": "9bac1371",
   "metadata": {},
   "source": [
    "Ans:-\n",
    "    \n",
    "    If a function is defined by yourself, it is generally called user-defined function.\n",
    "    \n",
    "    Apart from it, the Python function that come along with Python are known as built-in function.\n",
    "    \n",
    "    All the function except built-in function and library functions comes under the category of user-defined functions.\n",
    "    \n",
    "    ex:- len(), max(), min(), sorted(), open(), range(), str(), int(), float() these are built-in function.\n",
    "        \n",
    "        The user defined function having your own logic and syntax like below."
   ]
  },
  {
   "cell_type": "code",
   "execution_count": 1,
   "id": "1d2877ed",
   "metadata": {},
   "outputs": [],
   "source": [
    "def Hello():\n",
    "    print('Hello, this is my function.')"
   ]
  },
  {
   "cell_type": "code",
   "execution_count": 2,
   "id": "fcd2e2d3",
   "metadata": {},
   "outputs": [
    {
     "name": "stdout",
     "output_type": "stream",
     "text": [
      "Hello, this is my function.\n"
     ]
    }
   ],
   "source": [
    "Hello()"
   ]
  },
  {
   "cell_type": "markdown",
   "id": "ed73bbb7",
   "metadata": {},
   "source": [
    "# 2. How can you pass arguments to a function in Python? Explain the difference between positional arguments and keyword arguments."
   ]
  },
  {
   "cell_type": "markdown",
   "id": "47ff38a0",
   "metadata": {},
   "source": [
    "Ans:-\n",
    "    \n",
    "    We can create a function with using def keyword. If you want to pass any argument inside a function it should comes \n",
    "    under the parenthesis () after naming function.\n",
    "    \n",
    "    arg or *args are used for position arguments whereas **kwargs and assignment operator '=' is used for keyword argument.\n",
    "    \n",
    "    but args and kwargs are not reserved keyword for positional argument and keyword argument.    "
   ]
  },
  {
   "cell_type": "code",
   "execution_count": 3,
   "id": "e2ac4099",
   "metadata": {},
   "outputs": [],
   "source": [
    "def test(*args):\n",
    "    return args"
   ]
  },
  {
   "cell_type": "code",
   "execution_count": 4,
   "id": "0c75b2a7",
   "metadata": {},
   "outputs": [
    {
     "ename": "TypeError",
     "evalue": "test() got an unexpected keyword argument 'a'",
     "output_type": "error",
     "traceback": [
      "\u001b[1;31m---------------------------------------------------------------------------\u001b[0m",
      "\u001b[1;31mTypeError\u001b[0m                                 Traceback (most recent call last)",
      "\u001b[1;32m~\\AppData\\Local\\Temp/ipykernel_2860/3698248065.py\u001b[0m in \u001b[0;36m<module>\u001b[1;34m\u001b[0m\n\u001b[1;32m----> 1\u001b[1;33m \u001b[0mtest\u001b[0m\u001b[1;33m(\u001b[0m\u001b[0ma\u001b[0m\u001b[1;33m=\u001b[0m\u001b[1;36m12\u001b[0m\u001b[1;33m,\u001b[0m\u001b[0mb\u001b[0m\u001b[1;33m=\u001b[0m\u001b[1;36m23\u001b[0m\u001b[1;33m)\u001b[0m\u001b[1;33m\u001b[0m\u001b[1;33m\u001b[0m\u001b[0m\n\u001b[0m\u001b[0;32m      2\u001b[0m \u001b[1;31m# as u see in function test followd positional argument but we pass keyword argument.\u001b[0m\u001b[1;33m\u001b[0m\u001b[1;33m\u001b[0m\u001b[0m\n",
      "\u001b[1;31mTypeError\u001b[0m: test() got an unexpected keyword argument 'a'"
     ]
    }
   ],
   "source": [
    "test(a=12,b=23)\n",
    "# as u see in function test followd positional argument but we pass keyword argument."
   ]
  },
  {
   "cell_type": "code",
   "execution_count": null,
   "id": "e799be9f",
   "metadata": {},
   "outputs": [],
   "source": [
    "def test1(**kwargs):\n",
    "    return kwargs"
   ]
  },
  {
   "cell_type": "code",
   "execution_count": 5,
   "id": "22bbe073",
   "metadata": {},
   "outputs": [
    {
     "ename": "NameError",
     "evalue": "name 'test1' is not defined",
     "output_type": "error",
     "traceback": [
      "\u001b[1;31m---------------------------------------------------------------------------\u001b[0m",
      "\u001b[1;31mNameError\u001b[0m                                 Traceback (most recent call last)",
      "\u001b[1;32m~\\AppData\\Local\\Temp/ipykernel_2860/2760813426.py\u001b[0m in \u001b[0;36m<module>\u001b[1;34m\u001b[0m\n\u001b[1;32m----> 1\u001b[1;33m \u001b[0mtest1\u001b[0m\u001b[1;33m(\u001b[0m\u001b[1;36m1\u001b[0m\u001b[1;33m,\u001b[0m\u001b[1;36m2\u001b[0m\u001b[1;33m,\u001b[0m\u001b[1;36m3\u001b[0m\u001b[1;33m,\u001b[0m\u001b[1;36m4\u001b[0m\u001b[1;33m)\u001b[0m\u001b[1;33m\u001b[0m\u001b[1;33m\u001b[0m\u001b[0m\n\u001b[0m\u001b[0;32m      2\u001b[0m \u001b[1;31m# as you see in funciton test1 followed keyword argument but we pass positional argument.\u001b[0m\u001b[1;33m\u001b[0m\u001b[1;33m\u001b[0m\u001b[0m\n",
      "\u001b[1;31mNameError\u001b[0m: name 'test1' is not defined"
     ]
    }
   ],
   "source": [
    "test1(1,2,3,4)\n",
    "# as you see in funciton test1 followed keyword argument but we pass positional argument."
   ]
  },
  {
   "cell_type": "markdown",
   "id": "cd0da098",
   "metadata": {},
   "source": [
    "# 3. What is the purpose of the return statement in a function? Can a function have multiple return statements? Explain with an example."
   ]
  },
  {
   "cell_type": "markdown",
   "id": "58d4fc6b",
   "metadata": {},
   "source": [
    "Ans:- \n",
    "    \n",
    "    A return statement is the end of the function. A return always returns a value of a function.\n",
    "\n",
    "    A function have multiple return statement with the help of conditional flow statement like if-else."
   ]
  },
  {
   "cell_type": "code",
   "execution_count": 6,
   "id": "3d3e779c",
   "metadata": {},
   "outputs": [],
   "source": [
    "def even_or_odd(args):\n",
    "    if type(args) == int:\n",
    "        if args % 2 == 0:\n",
    "            return 'Even'\n",
    "        else:\n",
    "            return 'Odd'\n",
    "    else:\n",
    "        return f'{args}: wrong input, Please parse only an integer'"
   ]
  },
  {
   "cell_type": "code",
   "execution_count": 7,
   "id": "643449db",
   "metadata": {},
   "outputs": [
    {
     "data": {
      "text/plain": [
       "'adfe: wrong input, Please parse only an integer'"
      ]
     },
     "execution_count": 7,
     "metadata": {},
     "output_type": "execute_result"
    }
   ],
   "source": [
    "even_or_odd('adfe')"
   ]
  },
  {
   "cell_type": "code",
   "execution_count": 8,
   "id": "479eefbf",
   "metadata": {},
   "outputs": [
    {
     "data": {
      "text/plain": [
       "'Even'"
      ]
     },
     "execution_count": 8,
     "metadata": {},
     "output_type": "execute_result"
    }
   ],
   "source": [
    "even_or_odd(12)"
   ]
  },
  {
   "cell_type": "markdown",
   "id": "51553030",
   "metadata": {},
   "source": [
    "# 4. What are lambda functions in Python? How are they different from regular functions? Provide an example where a lambda function can be useful."
   ]
  },
  {
   "cell_type": "markdown",
   "id": "38a10f42",
   "metadata": {},
   "source": [
    "Ans:-\n",
    "    \n",
    "    Lambda function mainly known as anonymous function. i.e. function without name.\n",
    "    \n",
    "    lambda is a reserve keyword to define a lambda function. \n",
    "    \n",
    "    It is useful when you are creating an easy and compact synatax function."
   ]
  },
  {
   "cell_type": "code",
   "execution_count": 9,
   "id": "e5a33a10",
   "metadata": {},
   "outputs": [],
   "source": [
    "square = lambda a : a*a"
   ]
  },
  {
   "cell_type": "code",
   "execution_count": 10,
   "id": "dfea09c3",
   "metadata": {},
   "outputs": [
    {
     "data": {
      "text/plain": [
       "144"
      ]
     },
     "execution_count": 10,
     "metadata": {},
     "output_type": "execute_result"
    }
   ],
   "source": [
    "square(12)"
   ]
  },
  {
   "cell_type": "markdown",
   "id": "0a4e6b2a",
   "metadata": {},
   "source": [
    "# 5. How does the concept of \"scope\" apply to functions in Python? Explain the difference between local scope and global scope."
   ]
  },
  {
   "cell_type": "markdown",
   "id": "9a896120",
   "metadata": {},
   "source": [
    "Ans:-\n",
    "    \n",
    "   A variable is only available from inside the region it is created. This is called scope.\n",
    "    \n",
    "   `Local scope`:- A variable created inside a function belongs to the local scope of that function, and can only be used\n",
    "    inside that function.\n",
    "    \n",
    "   `Global scope`:- A variable created in the main body of the Python code is a global varibale and belong to the global \n",
    "   scope. Global variables are availale from within any scope, global and local."
   ]
  },
  {
   "cell_type": "code",
   "execution_count": 11,
   "id": "8b01c236",
   "metadata": {},
   "outputs": [],
   "source": [
    "def func():\n",
    "    x = True # Local scope\n",
    "    return x"
   ]
  },
  {
   "cell_type": "code",
   "execution_count": 12,
   "id": "4d85de6d",
   "metadata": {},
   "outputs": [
    {
     "data": {
      "text/plain": [
       "True"
      ]
     },
     "execution_count": 12,
     "metadata": {},
     "output_type": "execute_result"
    }
   ],
   "source": [
    "func()"
   ]
  },
  {
   "cell_type": "code",
   "execution_count": 13,
   "id": "08ad8813",
   "metadata": {},
   "outputs": [],
   "source": [
    "x = False # Global Scope\n",
    "def func1():\n",
    "    return x"
   ]
  },
  {
   "cell_type": "code",
   "execution_count": 14,
   "id": "256024ff",
   "metadata": {},
   "outputs": [
    {
     "data": {
      "text/plain": [
       "False"
      ]
     },
     "execution_count": 14,
     "metadata": {},
     "output_type": "execute_result"
    }
   ],
   "source": [
    "func1()"
   ]
  },
  {
   "cell_type": "markdown",
   "id": "10bc4792",
   "metadata": {},
   "source": [
    "# 6. How can you use the \"return\" statement in a Python function to return multiple values?"
   ]
  },
  {
   "cell_type": "markdown",
   "id": "78e291f4",
   "metadata": {},
   "source": [
    "Ans:-\n",
    "    \n",
    "    In Python, you can return multiple values by seperating them with commas in the return statement.\n",
    "\n",
    "    In Python, comma-seperated values are treated as tuple, even without parenthesis, unless the syntax require them."
   ]
  },
  {
   "cell_type": "code",
   "execution_count": 15,
   "id": "9529b26d",
   "metadata": {},
   "outputs": [],
   "source": [
    "def test3():\n",
    "    return 1,2,3,4,5"
   ]
  },
  {
   "cell_type": "code",
   "execution_count": 16,
   "id": "597277a9",
   "metadata": {},
   "outputs": [
    {
     "data": {
      "text/plain": [
       "(1, 2, 3, 4, 5)"
      ]
     },
     "execution_count": 16,
     "metadata": {},
     "output_type": "execute_result"
    }
   ],
   "source": [
    "test3()"
   ]
  },
  {
   "cell_type": "markdown",
   "id": "7980835c",
   "metadata": {},
   "source": [
    "# 7. What is the difference between the \"pass by value\" and \"pass by reference\" concepts when it comes to function arguments in Python?"
   ]
  },
  {
   "cell_type": "markdown",
   "id": "1967ee1d",
   "metadata": {},
   "source": [
    "Ans:- \n",
    "\n",
    "                    Pass by Value                                    Pass by Reference\n",
    "                    \n",
    "     1) Mechanism of copying the function parameter             1) Mechanism of passing the actual parameters to \n",
    "        value of another variable.                                 the function.\n",
    "        \n",
    "     2) Changes made inside the function are not                2) Changes made inside the function are reflected\n",
    "        reflected in the original value.                           in the original value.\n",
    "        \n",
    "     3) Makes a copy of the actual parameter.                   3) Address of the actual paramter passes to the function.\n",
    "     \n",
    "     4) Function gets a copy of the actual content.             4) Function accesses the original variable's content.\n",
    "     \n",
    "     5) Requires more memory                                    5) Requires less memory.\n",
    "     \n",
    "     6) Requires more times as it involves copying              6) Requires a less amount of time as there is no copying.\n",
    "        values.                                                    "
   ]
  },
  {
   "cell_type": "markdown",
   "id": "dd366088",
   "metadata": {},
   "source": [
    "# Pass by reference "
   ]
  },
  {
   "cell_type": "code",
   "execution_count": 17,
   "id": "f0c3610c",
   "metadata": {},
   "outputs": [],
   "source": [
    "my_list = ['Rohit', 'Ineuron', 'Data Scientist']"
   ]
  },
  {
   "cell_type": "code",
   "execution_count": 18,
   "id": "d3d6bc17",
   "metadata": {},
   "outputs": [],
   "source": [
    "def new_list(my_list):\n",
    "    new_list = [1,2,3]\n",
    "    my_list.append(new_list)\n",
    "    print(f'Values inside the funciton: {my_list}')\n",
    "    return"
   ]
  },
  {
   "cell_type": "code",
   "execution_count": 19,
   "id": "8962bd89",
   "metadata": {},
   "outputs": [
    {
     "name": "stdout",
     "output_type": "stream",
     "text": [
      "Values inside the funciton: ['Rohit', 'Ineuron', 'Data Scientist', [1, 2, 3]]\n",
      "Values Outside the function: ['Rohit', 'Ineuron', 'Data Scientist', [1, 2, 3]]\n"
     ]
    }
   ],
   "source": [
    "new_list(my_list)\n",
    "print(f'Values Outside the function: {my_list}')"
   ]
  },
  {
   "cell_type": "markdown",
   "id": "af37159b",
   "metadata": {},
   "source": [
    "# Pass by Value"
   ]
  },
  {
   "cell_type": "code",
   "execution_count": 20,
   "id": "247b745f",
   "metadata": {},
   "outputs": [],
   "source": [
    "my_list1 = ['Google', 'Ineuron', 'Facebook']"
   ]
  },
  {
   "cell_type": "code",
   "execution_count": 21,
   "id": "a8a6e24e",
   "metadata": {},
   "outputs": [],
   "source": [
    "def new_list1(my_list1):\n",
    "    my_list1 = ['2lk', '50k', '3lk']\n",
    "    print(f'Inside the function: {my_list1}')\n",
    "    return "
   ]
  },
  {
   "cell_type": "code",
   "execution_count": 22,
   "id": "911fca1e",
   "metadata": {},
   "outputs": [
    {
     "name": "stdout",
     "output_type": "stream",
     "text": [
      "Inside the function: ['2lk', '50k', '3lk']\n",
      "Out side the function: ['Google', 'Ineuron', 'Facebook']\n"
     ]
    }
   ],
   "source": [
    "new_list1(my_list1)\n",
    "print(f'Out side the function: {my_list1}')"
   ]
  },
  {
   "cell_type": "markdown",
   "id": "891ca117",
   "metadata": {},
   "source": [
    "# 8. Create a function that can intake integer or decimal value and do following operations:\n",
    "\n",
    "a. Logarithmic function (log x)\n",
    "\n",
    "b. Exponential function (exp(x))\n",
    "\n",
    "c. Power function with base 2 (2x)\n",
    "\n",
    "d. Square root"
   ]
  },
  {
   "cell_type": "code",
   "execution_count": 23,
   "id": "48133a1e",
   "metadata": {},
   "outputs": [],
   "source": [
    "import math"
   ]
  },
  {
   "cell_type": "code",
   "execution_count": 24,
   "id": "271a2c10",
   "metadata": {},
   "outputs": [],
   "source": [
    "def logarithmic(arg):\n",
    "    if type(arg) == int or type(arg) == float:\n",
    "        result = math.log(arg)\n",
    "        return result\n",
    "    else:\n",
    "        return f'Please pars only integer value or decimal value'\n",
    "    \n",
    "def Exponential(arg):\n",
    "    if type(arg) == int or type(arg) == float:\n",
    "        result = math.exp(arg)\n",
    "        return result\n",
    "    else:\n",
    "        return f'Please pars only integer value or decimal value'\n",
    "    \n",
    "def Power_with_base2(arg):\n",
    "     if type(arg) == int or type(arg) == float:\n",
    "        result = math.pow(2,arg)\n",
    "        return result\n",
    "     else:\n",
    "        return f'Please pars only integer value or decimal value'\n",
    "    \n",
    "def square_root(arg):\n",
    "    if type(arg) == int or type(arg) == float:\n",
    "        result = math.sqrt(arg)\n",
    "        return result\n",
    "    else:\n",
    "        return f'Please pars only integer value or decimal value'"
   ]
  },
  {
   "cell_type": "code",
   "execution_count": 25,
   "id": "ca6ae4f9",
   "metadata": {},
   "outputs": [
    {
     "data": {
      "text/plain": [
       "7.759187438507795"
      ]
     },
     "execution_count": 25,
     "metadata": {},
     "output_type": "execute_result"
    }
   ],
   "source": [
    "logarithmic(2343)"
   ]
  },
  {
   "cell_type": "code",
   "execution_count": 26,
   "id": "e818c96d",
   "metadata": {},
   "outputs": [
    {
     "data": {
      "text/plain": [
       "20.085536923187668"
      ]
     },
     "execution_count": 26,
     "metadata": {},
     "output_type": "execute_result"
    }
   ],
   "source": [
    "Exponential(3)"
   ]
  },
  {
   "cell_type": "code",
   "execution_count": 27,
   "id": "87317ca8",
   "metadata": {},
   "outputs": [
    {
     "data": {
      "text/plain": [
       "32.0"
      ]
     },
     "execution_count": 27,
     "metadata": {},
     "output_type": "execute_result"
    }
   ],
   "source": [
    "Power_with_base2(5)"
   ]
  },
  {
   "cell_type": "code",
   "execution_count": 28,
   "id": "457557e8",
   "metadata": {},
   "outputs": [
    {
     "data": {
      "text/plain": [
       "2.8284271247461903"
      ]
     },
     "execution_count": 28,
     "metadata": {},
     "output_type": "execute_result"
    }
   ],
   "source": [
    "square_root(8)"
   ]
  },
  {
   "cell_type": "markdown",
   "id": "228931c6",
   "metadata": {},
   "source": [
    "# 9. Create a function that takes a full name as an argument and returns first name and last name."
   ]
  },
  {
   "cell_type": "code",
   "execution_count": 29,
   "id": "d7bc89af",
   "metadata": {},
   "outputs": [],
   "source": [
    "def your_name(arg):\n",
    "        if type(arg) == str:\n",
    "            new_name = arg.split(sep=' ')\n",
    "            if len(new_name) == 3:\n",
    "                first_last = new_name[0] + ' ' + new_name[2]\n",
    "                return first_last\n",
    "            else:\n",
    "                return f'{new_name} invalied name, Kindly Enter your correct name.'\n",
    "        else:\n",
    "            return f'{arg} invalied name, Kindly Enter your full name.'"
   ]
  },
  {
   "cell_type": "code",
   "execution_count": 30,
   "id": "ca45af9f",
   "metadata": {},
   "outputs": [
    {
     "data": {
      "text/plain": [
       "'Rohit Bansod'"
      ]
     },
     "execution_count": 30,
     "metadata": {},
     "output_type": "execute_result"
    }
   ],
   "source": [
    "your_name('Rohit Ashok Bansod')"
   ]
  }
 ],
 "metadata": {
  "kernelspec": {
   "display_name": "Python 3 (ipykernel)",
   "language": "python",
   "name": "python3"
  },
  "language_info": {
   "codemirror_mode": {
    "name": "ipython",
    "version": 3
   },
   "file_extension": ".py",
   "mimetype": "text/x-python",
   "name": "python",
   "nbconvert_exporter": "python",
   "pygments_lexer": "ipython3",
   "version": "3.9.7"
  }
 },
 "nbformat": 4,
 "nbformat_minor": 5
}
