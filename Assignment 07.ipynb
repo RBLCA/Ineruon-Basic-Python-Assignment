{
 "cells": [
  {
   "cell_type": "markdown",
   "id": "b61bf8e9",
   "metadata": {},
   "source": [
    "# Q.1. Create two int type variables, apply addition, subtraction, division and multiplicationsand store the results in variables. Then print the data in the following format by calling thevariables:\n",
    "\n",
    "First variable is __ & second variable is __.\n",
    "\n",
    "Addition: __ + __ = __\n",
    "\n",
    "Subtraction: __ - __ = __\n",
    "\n",
    "Multiplication: __ * __ = __\n",
    "\n",
    "Division: __ / __ = __"
   ]
  },
  {
   "cell_type": "code",
   "execution_count": 1,
   "id": "af2628f2",
   "metadata": {},
   "outputs": [],
   "source": [
    "first_variable = 100\n",
    "second_variable = 50"
   ]
  },
  {
   "cell_type": "code",
   "execution_count": 2,
   "id": "e83e5288",
   "metadata": {},
   "outputs": [
    {
     "name": "stdout",
     "output_type": "stream",
     "text": [
      "150\n",
      "50\n",
      "5000\n",
      "2.0\n"
     ]
    }
   ],
   "source": [
    "Addition = first_variable + second_variable\n",
    "Substration = first_variable - second_variable\n",
    "Multiplicaiton = first_variable * second_variable\n",
    "Division = first_variable / second_variable\n",
    "\n",
    "print(Addition)\n",
    "print(Substration)\n",
    "print(Multiplicaiton)\n",
    "print(Division)"
   ]
  },
  {
   "cell_type": "markdown",
   "id": "b838b3f6",
   "metadata": {},
   "source": [
    "# Q.2. What is the difference between the following operators:\n",
    "\n",
    "(i) ‘/’ & ‘//’\n",
    "\n",
    "(ii) ‘**’ & ‘^’"
   ]
  },
  {
   "cell_type": "markdown",
   "id": "436cce30",
   "metadata": {},
   "source": [
    "**(i) '/' & '//'**\n",
    "\n",
    "**Ans:-**\n",
    "    \n",
    "    They are both arithmatic operators used with numeric value to perform mathematical operation.\n",
    "    \n",
    "    '/' ----> used for Division operaton and gives you a result in float-point value.\n",
    "    \n",
    "    '//' --->  used for Floor Division operation and gives you a result the intger value of quotient."
   ]
  },
  {
   "cell_type": "code",
   "execution_count": 3,
   "id": "d469a9d1",
   "metadata": {},
   "outputs": [],
   "source": [
    "a = 10\n",
    "b = 5"
   ]
  },
  {
   "cell_type": "code",
   "execution_count": 4,
   "id": "8b8d5613",
   "metadata": {},
   "outputs": [
    {
     "data": {
      "text/plain": [
       "2.0"
      ]
     },
     "execution_count": 4,
     "metadata": {},
     "output_type": "execute_result"
    }
   ],
   "source": [
    "a/b"
   ]
  },
  {
   "cell_type": "code",
   "execution_count": 5,
   "id": "a0081e34",
   "metadata": {},
   "outputs": [
    {
     "data": {
      "text/plain": [
       "2"
      ]
     },
     "execution_count": 5,
     "metadata": {},
     "output_type": "execute_result"
    }
   ],
   "source": [
    "a//b"
   ]
  },
  {
   "cell_type": "markdown",
   "id": "9e81a026",
   "metadata": {},
   "source": [
    "**(ii) ‘**’ & ‘^’**\n",
    "\n",
    "Ans:- \n",
    "    \n",
    "    '**' -----> This is an arithmatic operator used for exponentiation of a number.\n",
    "    \n",
    "    '^'  -----> This is a bitwise XOR operator"
   ]
  },
  {
   "cell_type": "code",
   "execution_count": 7,
   "id": "b0e42f7d",
   "metadata": {},
   "outputs": [
    {
     "data": {
      "text/plain": [
       "4"
      ]
     },
     "execution_count": 7,
     "metadata": {},
     "output_type": "execute_result"
    }
   ],
   "source": [
    "2**2"
   ]
  },
  {
   "cell_type": "code",
   "execution_count": 8,
   "id": "0b8e7b4d",
   "metadata": {},
   "outputs": [
    {
     "data": {
      "text/plain": [
       "27"
      ]
     },
     "execution_count": 8,
     "metadata": {},
     "output_type": "execute_result"
    }
   ],
   "source": [
    "3**3"
   ]
  },
  {
   "cell_type": "code",
   "execution_count": 9,
   "id": "a68d5104",
   "metadata": {},
   "outputs": [
    {
     "data": {
      "text/plain": [
       "12"
      ]
     },
     "execution_count": 9,
     "metadata": {},
     "output_type": "execute_result"
    }
   ],
   "source": [
    "10 ^ 6"
   ]
  },
  {
   "cell_type": "markdown",
   "id": "1cea9882",
   "metadata": {},
   "source": [
    "# Q.3. List the logical operators."
   ]
  },
  {
   "cell_type": "markdown",
   "id": "757647e9",
   "metadata": {},
   "source": [
    "**Ans:-**\n",
    "    \n",
    "    The logical operator are and, or, not."
   ]
  },
  {
   "cell_type": "markdown",
   "id": "30848136",
   "metadata": {},
   "source": [
    "           and                                       or                                     not\n",
    "\n",
    "    1) True and True = True                  1) True or True = True              1) Not True = False\n",
    "\n",
    "    2) True and False = False                2) True or False = True             2) Not False = True\n",
    "\n",
    "    3) False and True = True                 3) False or True = True   \n",
    "\n",
    "    4) False and False = False               4) False or False = False"
   ]
  },
  {
   "cell_type": "markdown",
   "id": "08278b58",
   "metadata": {},
   "source": [
    "# Q.4. Explain right shift operator and left shift operator with examples."
   ]
  },
  {
   "cell_type": "markdown",
   "id": "aaf2e9a6",
   "metadata": {},
   "source": [
    "**Ans:-**\n",
    "    \n",
    "    '>>' -------> righ shift operator, which moves the bits of an integer expression to the right.\n",
    "    \n",
    "    '<<' -------> left shift operator, which moves the bits to the left."
   ]
  },
  {
   "cell_type": "code",
   "execution_count": 10,
   "id": "178be215",
   "metadata": {},
   "outputs": [],
   "source": [
    "a = 100"
   ]
  },
  {
   "cell_type": "code",
   "execution_count": 11,
   "id": "c4ce8d3b",
   "metadata": {},
   "outputs": [
    {
     "data": {
      "text/plain": [
       "25"
      ]
     },
     "execution_count": 11,
     "metadata": {},
     "output_type": "execute_result"
    }
   ],
   "source": [
    "a >> 2 # right shift operator"
   ]
  },
  {
   "cell_type": "code",
   "execution_count": 12,
   "id": "3e5d7c98",
   "metadata": {},
   "outputs": [
    {
     "data": {
      "text/plain": [
       "400"
      ]
     },
     "execution_count": 12,
     "metadata": {},
     "output_type": "execute_result"
    }
   ],
   "source": [
    "a << 2 # left shift operator"
   ]
  },
  {
   "cell_type": "markdown",
   "id": "35c89c7f",
   "metadata": {},
   "source": [
    "# Q.5. Create a list containing int type data of length 15. Then write a code to check if 10 is present in the list or not."
   ]
  },
  {
   "cell_type": "code",
   "execution_count": 13,
   "id": "911ddd79",
   "metadata": {},
   "outputs": [],
   "source": [
    "my_list = [1,2,3,4,5,6,7,8,9,10,11,12,13,14,15]"
   ]
  },
  {
   "cell_type": "code",
   "execution_count": 14,
   "id": "2ea7a73d",
   "metadata": {},
   "outputs": [
    {
     "data": {
      "text/plain": [
       "True"
      ]
     },
     "execution_count": 14,
     "metadata": {},
     "output_type": "execute_result"
    }
   ],
   "source": [
    "10 in my_list"
   ]
  }
 ],
 "metadata": {
  "kernelspec": {
   "display_name": "Python 3 (ipykernel)",
   "language": "python",
   "name": "python3"
  },
  "language_info": {
   "codemirror_mode": {
    "name": "ipython",
    "version": 3
   },
   "file_extension": ".py",
   "mimetype": "text/x-python",
   "name": "python",
   "nbconvert_exporter": "python",
   "pygments_lexer": "ipython3",
   "version": "3.9.7"
  }
 },
 "nbformat": 4,
 "nbformat_minor": 5
}
