{
 "cells": [
  {
   "cell_type": "markdown",
   "id": "92522c66",
   "metadata": {},
   "source": [
    "# 1. What is the role of try and exception block?"
   ]
  },
  {
   "cell_type": "markdown",
   "id": "5978edf7",
   "metadata": {},
   "source": [
    "Ans:-\n",
    "    \n",
    "    An exception is a Python object that represent the error.\n",
    "    \n",
    "    Python provides the way to handle the exception so that the code can be executed without any interruption.\n",
    "    \n",
    "    To handle the Run-time error try and except block play a major role.\n",
    "    \n",
    "    Try block allows yout o test a block of code of error.\n",
    "    \n",
    "    The except block enable you to handle the erroe with user-defined response."
   ]
  },
  {
   "cell_type": "markdown",
   "id": "fe16792a",
   "metadata": {},
   "source": [
    "# 2. What is the syntax for a basic try-except block?"
   ]
  },
  {
   "cell_type": "code",
   "execution_count": 1,
   "id": "c403d942",
   "metadata": {},
   "outputs": [
    {
     "name": "stdout",
     "output_type": "stream",
     "text": [
      "There is an error\n"
     ]
    }
   ],
   "source": [
    "try:\n",
    "    a = 12\n",
    "    b = 0\n",
    "    result = a/b\n",
    "except:\n",
    "    print('There is an error')"
   ]
  },
  {
   "cell_type": "markdown",
   "id": "83358856",
   "metadata": {},
   "source": [
    "# 3. What happens if an exception occurs inside a try block and there is no matching except block?"
   ]
  },
  {
   "cell_type": "markdown",
   "id": "34ac4459",
   "metadata": {},
   "source": [
    "Ans:-\n",
    "    \n",
    "    If an exception occurs inside a try block and there is no matching excpet block, It will thrown an error like below."
   ]
  },
  {
   "cell_type": "code",
   "execution_count": 2,
   "id": "74182cb9",
   "metadata": {},
   "outputs": [
    {
     "ename": "ZeroDivisionError",
     "evalue": "division by zero",
     "output_type": "error",
     "traceback": [
      "\u001b[1;31m---------------------------------------------------------------------------\u001b[0m",
      "\u001b[1;31mZeroDivisionError\u001b[0m                         Traceback (most recent call last)",
      "\u001b[1;32m~\\AppData\\Local\\Temp/ipykernel_8388/3654465689.py\u001b[0m in \u001b[0;36m<module>\u001b[1;34m\u001b[0m\n\u001b[0;32m      2\u001b[0m     \u001b[0ma\u001b[0m \u001b[1;33m=\u001b[0m \u001b[1;36m12\u001b[0m\u001b[1;33m\u001b[0m\u001b[1;33m\u001b[0m\u001b[0m\n\u001b[0;32m      3\u001b[0m     \u001b[0mb\u001b[0m \u001b[1;33m=\u001b[0m \u001b[1;36m0\u001b[0m\u001b[1;33m\u001b[0m\u001b[1;33m\u001b[0m\u001b[0m\n\u001b[1;32m----> 4\u001b[1;33m     \u001b[0mresult\u001b[0m \u001b[1;33m=\u001b[0m \u001b[0ma\u001b[0m\u001b[1;33m/\u001b[0m\u001b[0mb\u001b[0m\u001b[1;33m\u001b[0m\u001b[1;33m\u001b[0m\u001b[0m\n\u001b[0m\u001b[0;32m      5\u001b[0m \u001b[1;32mexcept\u001b[0m \u001b[0mTypeError\u001b[0m\u001b[1;33m:\u001b[0m\u001b[1;33m\u001b[0m\u001b[1;33m\u001b[0m\u001b[0m\n\u001b[0;32m      6\u001b[0m     \u001b[0mprint\u001b[0m\u001b[1;33m(\u001b[0m\u001b[1;34m'There is an error'\u001b[0m\u001b[1;33m)\u001b[0m\u001b[1;33m\u001b[0m\u001b[1;33m\u001b[0m\u001b[0m\n",
      "\u001b[1;31mZeroDivisionError\u001b[0m: division by zero"
     ]
    }
   ],
   "source": [
    "try:\n",
    "    a = 12\n",
    "    b = 0\n",
    "    result = a/b\n",
    "except TypeError:\n",
    "    print('There is an error')\n",
    "except OSError:\n",
    "    print('There is an os error')"
   ]
  },
  {
   "cell_type": "markdown",
   "id": "4b06a31b",
   "metadata": {},
   "source": [
    "# 4. What is the difference between using a bare except block and specifying a specific exception type?"
   ]
  },
  {
   "cell_type": "markdown",
   "id": "06167a57",
   "metadata": {},
   "source": [
    "Ans:-\n",
    "    \n",
    "    A bare 'except' clause witll catch 'SystemExit' and 'KeyboardInterrupt' excpetion, making it difficult to interrupt\n",
    "    a program and can disguise other problem.\n",
    "    \n",
    "    If you want to catch all the exception that signal program errors, use 'except Exception.'"
   ]
  },
  {
   "cell_type": "code",
   "execution_count": 3,
   "id": "4f79e0fa",
   "metadata": {},
   "outputs": [
    {
     "name": "stdout",
     "output_type": "stream",
     "text": [
      "library not available\n"
     ]
    }
   ],
   "source": [
    "try:\n",
    "    import lib123\n",
    "except: # bare except\n",
    "    print('library not available')"
   ]
  },
  {
   "cell_type": "code",
   "execution_count": 4,
   "id": "7ced9e43",
   "metadata": {},
   "outputs": [
    {
     "name": "stdout",
     "output_type": "stream",
     "text": [
      "Library can't imported, No module named 'lib123'\n"
     ]
    }
   ],
   "source": [
    "try:\n",
    "    import lib123\n",
    "except ImportError as i:\n",
    "    print(\"Library can't imported,\", i)"
   ]
  },
  {
   "cell_type": "markdown",
   "id": "e6ad3b27",
   "metadata": {},
   "source": [
    "# 5. Can you have nested try-except blocks in Python? If yes, then give an example."
   ]
  },
  {
   "cell_type": "markdown",
   "id": "806cf2e2",
   "metadata": {},
   "source": [
    "Ans:-\n",
    "    \n",
    "    Yes, we can nested try-except block in Python. In this case, if an exception is raised in the nested try block,\n",
    "    \n",
    "    the nested except block is used to handle that exception. \n",
    "    \n",
    "    If nested except is not able to handle it, the outer excpet block are used to handle the exception."
   ]
  },
  {
   "cell_type": "code",
   "execution_count": 5,
   "id": "2b079f11",
   "metadata": {},
   "outputs": [
    {
     "name": "stdout",
     "output_type": "stream",
     "text": [
      "division by zero\n",
      "5\n",
      "8\n"
     ]
    }
   ],
   "source": [
    "try:\n",
    "    a = 12\n",
    "    b = 0\n",
    "    result = a/b\n",
    "except Exception as e:\n",
    "    print(e)\n",
    "    \n",
    "    try:\n",
    "        a = int(input())\n",
    "        b = int(input())\n",
    "        result1 = a//b\n",
    "    \n",
    "    except Exception as e:\n",
    "        print(e)        "
   ]
  },
  {
   "cell_type": "markdown",
   "id": "b3388025",
   "metadata": {},
   "source": [
    "# 6. Can we use multiple exception blocks, if yes then give an example."
   ]
  },
  {
   "cell_type": "markdown",
   "id": "7ed2eaf9",
   "metadata": {},
   "source": [
    "Ans:-\n",
    "    \n",
    "    Yes, we can use multiple exception block like below."
   ]
  },
  {
   "cell_type": "code",
   "execution_count": 6,
   "id": "533c6245",
   "metadata": {},
   "outputs": [
    {
     "name": "stdout",
     "output_type": "stream",
     "text": [
      "File not available\n"
     ]
    }
   ],
   "source": [
    "try:\n",
    "    file = open('ineuron.txt')\n",
    "\n",
    "except TypeError:\n",
    "    print('it failed')\n",
    "except FileNotFoundError:\n",
    "    print('File not available')\n",
    "except ZeroDivisionError:\n",
    "    print('Cant divided by zero.')"
   ]
  },
  {
   "cell_type": "markdown",
   "id": "b71563e1",
   "metadata": {},
   "source": [
    "# 7. Write the reason due to which following errors are raised:\n",
    "\n",
    "**a. EOFError**\n",
    "\n",
    "**b. FloatingPointError**\n",
    "\n",
    "**c. IndexError**\n",
    "\n",
    "**d. MemoryError**\n",
    "\n",
    "**e. OverflowError**\n",
    "\n",
    "**f. TabError**\n",
    "\n",
    "**g. ValueError**"
   ]
  },
  {
   "cell_type": "markdown",
   "id": "e9da7b59",
   "metadata": {},
   "source": [
    "Ans:-"
   ]
  },
  {
   "cell_type": "markdown",
   "id": "b7a73244",
   "metadata": {},
   "source": [
    "**a. EOFError :-**\n",
    "    \n",
    "    EOFError is short for 'End-of-Line-Error.' This error occurs when Python has reached the end of user input wihtout\n",
    "    receiving any input."
   ]
  },
  {
   "cell_type": "code",
   "execution_count": 7,
   "id": "a66ecf04",
   "metadata": {},
   "outputs": [
    {
     "ename": "SyntaxError",
     "evalue": "unexpected EOF while parsing (Temp/ipykernel_8388/4074115767.py, line 5)",
     "output_type": "error",
     "traceback": [
      "\u001b[1;36m  File \u001b[1;32m\"C:\\Users\\Admin\\AppData\\Local\\Temp/ipykernel_8388/4074115767.py\"\u001b[1;36m, line \u001b[1;32m5\u001b[0m\n\u001b[1;33m    \u001b[0m\n\u001b[1;37m    ^\u001b[0m\n\u001b[1;31mSyntaxError\u001b[0m\u001b[1;31m:\u001b[0m unexpected EOF while parsing\n"
     ]
    }
   ],
   "source": [
    "string = input()\n",
    "print(string\n",
    "      \n",
    "      \n",
    "      "
   ]
  },
  {
   "cell_type": "markdown",
   "id": "5625adbc",
   "metadata": {},
   "source": [
    "**b. FloatinPointError:-**\n",
    "        \n",
    "        Floating-point error mitigation is the minimization of errors causes by the fact that real numbers cannot,\n",
    "        in general, be accurately represented in a fixed space. \n",
    "        \n",
    "        Floating-point errors cannot be eliminated, and can only be managed."
   ]
  },
  {
   "cell_type": "markdown",
   "id": "60ee66b2",
   "metadata": {},
   "source": [
    "**c. IndexError :-**\n",
    "    \n",
    "    IndexError in an exception in Python that occurs when we try to access an element from a list or tuple from in index\n",
    "    that is not present in the list.\n",
    "    \n",
    "    for example we a list of 10 elements, the index is from 0 to 9."
   ]
  },
  {
   "cell_type": "code",
   "execution_count": 8,
   "id": "1be0b41a",
   "metadata": {},
   "outputs": [],
   "source": [
    "My_list = [1,2,3,4,5,6,7,8,9,10]"
   ]
  },
  {
   "cell_type": "code",
   "execution_count": 9,
   "id": "7a68fdd2",
   "metadata": {},
   "outputs": [
    {
     "ename": "IndexError",
     "evalue": "list index out of range",
     "output_type": "error",
     "traceback": [
      "\u001b[1;31m---------------------------------------------------------------------------\u001b[0m",
      "\u001b[1;31mIndexError\u001b[0m                                Traceback (most recent call last)",
      "\u001b[1;32m~\\AppData\\Local\\Temp/ipykernel_8388/3693275786.py\u001b[0m in \u001b[0;36m<module>\u001b[1;34m\u001b[0m\n\u001b[1;32m----> 1\u001b[1;33m \u001b[0mMy_list\u001b[0m\u001b[1;33m[\u001b[0m\u001b[1;36m11\u001b[0m\u001b[1;33m]\u001b[0m\u001b[1;33m\u001b[0m\u001b[1;33m\u001b[0m\u001b[0m\n\u001b[0m",
      "\u001b[1;31mIndexError\u001b[0m: list index out of range"
     ]
    }
   ],
   "source": [
    "My_list[11]"
   ]
  },
  {
   "cell_type": "markdown",
   "id": "37b17443",
   "metadata": {},
   "source": [
    "**d. Memory Error:-**\n",
    "    \n",
    "    A Memory Error means that the intrepreter has run out of memory to allocate to your Python program.\n",
    "    \n",
    "    This may be happens with respect to setup of Python environment or amy be a concern with the code iteelf loading\n",
    "    too much data at the same time."
   ]
  },
  {
   "cell_type": "markdown",
   "id": "466ce586",
   "metadata": {},
   "source": [
    "**e. OverflowError:-**\n",
    "    \n",
    "    In Python, OverflowError occurs when any operations like arithmatic operations or any variable storing any value above \n",
    "    its limit then there occurs an overflow of values that will exceed it's specified or already defined limit.    "
   ]
  },
  {
   "cell_type": "code",
   "execution_count": 10,
   "id": "663c9c58",
   "metadata": {},
   "outputs": [
    {
     "ename": "OverflowError",
     "evalue": "(34, 'Result too large')",
     "output_type": "error",
     "traceback": [
      "\u001b[1;31m---------------------------------------------------------------------------\u001b[0m",
      "\u001b[1;31mOverflowError\u001b[0m                             Traceback (most recent call last)",
      "\u001b[1;32m~\\AppData\\Local\\Temp/ipykernel_8388/2464842921.py\u001b[0m in \u001b[0;36m<module>\u001b[1;34m\u001b[0m\n\u001b[0;32m      4\u001b[0m         \u001b[0mpi\u001b[0m \u001b[1;33m+=\u001b[0m \u001b[1;33m(\u001b[0m\u001b[1;36m4.\u001b[0m\u001b[1;33m/\u001b[0m\u001b[1;33m(\u001b[0m\u001b[1;36m8.\u001b[0m\u001b[1;33m*\u001b[0m\u001b[0mk\u001b[0m\u001b[1;33m+\u001b[0m\u001b[1;36m1.\u001b[0m\u001b[1;33m)\u001b[0m \u001b[1;33m-\u001b[0m \u001b[1;36m2.\u001b[0m\u001b[1;33m/\u001b[0m\u001b[1;33m(\u001b[0m\u001b[1;36m8.\u001b[0m\u001b[1;33m*\u001b[0m\u001b[0mk\u001b[0m\u001b[1;33m+\u001b[0m\u001b[1;36m4.\u001b[0m\u001b[1;33m)\u001b[0m \u001b[1;33m-\u001b[0m \u001b[1;36m1.\u001b[0m\u001b[1;33m/\u001b[0m\u001b[1;33m(\u001b[0m\u001b[1;36m8.\u001b[0m\u001b[1;33m*\u001b[0m\u001b[0mk\u001b[0m\u001b[1;33m+\u001b[0m\u001b[1;36m5.\u001b[0m\u001b[1;33m)\u001b[0m \u001b[1;33m-\u001b[0m \u001b[1;36m1.\u001b[0m\u001b[1;33m/\u001b[0m\u001b[1;33m(\u001b[0m\u001b[1;36m8.\u001b[0m\u001b[1;33m*\u001b[0m\u001b[0mk\u001b[0m\u001b[1;33m+\u001b[0m\u001b[1;36m6.\u001b[0m\u001b[1;33m)\u001b[0m\u001b[1;33m)\u001b[0m \u001b[1;33m/\u001b[0m \u001b[1;36m16.\u001b[0m\u001b[1;33m**\u001b[0m\u001b[0mk\u001b[0m\u001b[1;33m\u001b[0m\u001b[1;33m\u001b[0m\u001b[0m\n\u001b[0;32m      5\u001b[0m     \u001b[1;32mreturn\u001b[0m \u001b[0mpi\u001b[0m\u001b[1;33m\u001b[0m\u001b[1;33m\u001b[0m\u001b[0m\n\u001b[1;32m----> 6\u001b[1;33m \u001b[0mprint\u001b[0m\u001b[1;33m(\u001b[0m\u001b[0mpi\u001b[0m\u001b[1;33m(\u001b[0m\u001b[1;33m)\u001b[0m\u001b[1;33m)\u001b[0m\u001b[1;33m\u001b[0m\u001b[1;33m\u001b[0m\u001b[0m\n\u001b[0m",
      "\u001b[1;32m~\\AppData\\Local\\Temp/ipykernel_8388/2464842921.py\u001b[0m in \u001b[0;36mpi\u001b[1;34m()\u001b[0m\n\u001b[0;32m      2\u001b[0m     \u001b[0mpi\u001b[0m \u001b[1;33m=\u001b[0m \u001b[1;36m0\u001b[0m\u001b[1;33m\u001b[0m\u001b[1;33m\u001b[0m\u001b[0m\n\u001b[0;32m      3\u001b[0m     \u001b[1;32mfor\u001b[0m \u001b[0mk\u001b[0m \u001b[1;32min\u001b[0m \u001b[0mrange\u001b[0m\u001b[1;33m(\u001b[0m\u001b[1;36m350\u001b[0m\u001b[1;33m)\u001b[0m\u001b[1;33m:\u001b[0m\u001b[1;33m\u001b[0m\u001b[1;33m\u001b[0m\u001b[0m\n\u001b[1;32m----> 4\u001b[1;33m         \u001b[0mpi\u001b[0m \u001b[1;33m+=\u001b[0m \u001b[1;33m(\u001b[0m\u001b[1;36m4.\u001b[0m\u001b[1;33m/\u001b[0m\u001b[1;33m(\u001b[0m\u001b[1;36m8.\u001b[0m\u001b[1;33m*\u001b[0m\u001b[0mk\u001b[0m\u001b[1;33m+\u001b[0m\u001b[1;36m1.\u001b[0m\u001b[1;33m)\u001b[0m \u001b[1;33m-\u001b[0m \u001b[1;36m2.\u001b[0m\u001b[1;33m/\u001b[0m\u001b[1;33m(\u001b[0m\u001b[1;36m8.\u001b[0m\u001b[1;33m*\u001b[0m\u001b[0mk\u001b[0m\u001b[1;33m+\u001b[0m\u001b[1;36m4.\u001b[0m\u001b[1;33m)\u001b[0m \u001b[1;33m-\u001b[0m \u001b[1;36m1.\u001b[0m\u001b[1;33m/\u001b[0m\u001b[1;33m(\u001b[0m\u001b[1;36m8.\u001b[0m\u001b[1;33m*\u001b[0m\u001b[0mk\u001b[0m\u001b[1;33m+\u001b[0m\u001b[1;36m5.\u001b[0m\u001b[1;33m)\u001b[0m \u001b[1;33m-\u001b[0m \u001b[1;36m1.\u001b[0m\u001b[1;33m/\u001b[0m\u001b[1;33m(\u001b[0m\u001b[1;36m8.\u001b[0m\u001b[1;33m*\u001b[0m\u001b[0mk\u001b[0m\u001b[1;33m+\u001b[0m\u001b[1;36m6.\u001b[0m\u001b[1;33m)\u001b[0m\u001b[1;33m)\u001b[0m \u001b[1;33m/\u001b[0m \u001b[1;36m16.\u001b[0m\u001b[1;33m**\u001b[0m\u001b[0mk\u001b[0m\u001b[1;33m\u001b[0m\u001b[1;33m\u001b[0m\u001b[0m\n\u001b[0m\u001b[0;32m      5\u001b[0m     \u001b[1;32mreturn\u001b[0m \u001b[0mpi\u001b[0m\u001b[1;33m\u001b[0m\u001b[1;33m\u001b[0m\u001b[0m\n\u001b[0;32m      6\u001b[0m \u001b[0mprint\u001b[0m\u001b[1;33m(\u001b[0m\u001b[0mpi\u001b[0m\u001b[1;33m(\u001b[0m\u001b[1;33m)\u001b[0m\u001b[1;33m)\u001b[0m\u001b[1;33m\u001b[0m\u001b[1;33m\u001b[0m\u001b[0m\n",
      "\u001b[1;31mOverflowError\u001b[0m: (34, 'Result too large')"
     ]
    }
   ],
   "source": [
    "def pi(): \n",
    "    pi = 0 \n",
    "    for k in range(350): \n",
    "        pi += (4./(8.*k+1.) - 2./(8.*k+4.) - 1./(8.*k+5.) - 1./(8.*k+6.)) / 16.**k \n",
    "    return pi \n",
    "print(pi())"
   ]
  },
  {
   "cell_type": "markdown",
   "id": "c6272758",
   "metadata": {},
   "source": [
    "**Tab Error:-**\n",
    "    \n",
    "    In Python, TabError inconsistent use of tabs and spaces in indentation ocues when we mix tabs and spaces in the same \n",
    "    code of block.\n",
    "    \n",
    "    To solve this error, remove the spacing and only use tabs or spaces, but don't mix the two in the same code block.    "
   ]
  },
  {
   "cell_type": "markdown",
   "id": "97c9f2da",
   "metadata": {},
   "source": [
    "**g. ValueError:-**\n",
    "    \n",
    "    The Python ValueError is raised when the wrong value is assigned to an object. \n",
    "    \n",
    "    This can happen if the value is invalid for a given operation, or if the value does not exist."
   ]
  },
  {
   "cell_type": "code",
   "execution_count": 11,
   "id": "dbf04093",
   "metadata": {},
   "outputs": [
    {
     "name": "stdout",
     "output_type": "stream",
     "text": [
      "ajkh\n"
     ]
    },
    {
     "ename": "ValueError",
     "evalue": "invalid literal for int() with base 10: 'ajkh'",
     "output_type": "error",
     "traceback": [
      "\u001b[1;31m---------------------------------------------------------------------------\u001b[0m",
      "\u001b[1;31mValueError\u001b[0m                                Traceback (most recent call last)",
      "\u001b[1;32m~\\AppData\\Local\\Temp/ipykernel_8388/2870789953.py\u001b[0m in \u001b[0;36m<module>\u001b[1;34m\u001b[0m\n\u001b[0;32m      1\u001b[0m \u001b[0ma\u001b[0m \u001b[1;33m=\u001b[0m \u001b[1;36m10\u001b[0m\u001b[1;33m\u001b[0m\u001b[1;33m\u001b[0m\u001b[0m\n\u001b[1;32m----> 2\u001b[1;33m \u001b[0mb\u001b[0m \u001b[1;33m=\u001b[0m \u001b[0mint\u001b[0m\u001b[1;33m(\u001b[0m\u001b[0minput\u001b[0m\u001b[1;33m(\u001b[0m\u001b[1;33m)\u001b[0m\u001b[1;33m)\u001b[0m\u001b[1;33m\u001b[0m\u001b[1;33m\u001b[0m\u001b[0m\n\u001b[0m",
      "\u001b[1;31mValueError\u001b[0m: invalid literal for int() with base 10: 'ajkh'"
     ]
    }
   ],
   "source": [
    "a = 10\n",
    "b = int(input())"
   ]
  },
  {
   "cell_type": "markdown",
   "id": "01abf4c6",
   "metadata": {},
   "source": [
    "# 8. Write code for the following given scenario and add try-exception block to it.\n",
    "\n",
    "**a. Program to divide two numbers**\n",
    "\n",
    "**b. Program to convert a string to an integer**\n",
    "\n",
    "**c. Program to access an element in a list**\n",
    "\n",
    "**d. Program to handle a specific exception**\n",
    "\n",
    "**e. Program to handle any exception**"
   ]
  },
  {
   "cell_type": "markdown",
   "id": "2142cbdf",
   "metadata": {},
   "source": [
    "**a. Program to divide two numbers**"
   ]
  },
  {
   "cell_type": "code",
   "execution_count": 12,
   "id": "e6a27d79",
   "metadata": {},
   "outputs": [],
   "source": [
    "def div() -> int:\n",
    "    try:\n",
    "        a = int(input('Enter first no: '))\n",
    "        b = int(input('Enter second no: '))\n",
    "        result = a / b\n",
    "        return result\n",
    "    except Exception as e:\n",
    "        print(e)"
   ]
  },
  {
   "cell_type": "code",
   "execution_count": 13,
   "id": "f9224760",
   "metadata": {},
   "outputs": [
    {
     "name": "stdout",
     "output_type": "stream",
     "text": [
      "Enter first no: 5\n",
      "Enter second no: 0\n",
      "division by zero\n"
     ]
    }
   ],
   "source": [
    "div()"
   ]
  },
  {
   "cell_type": "code",
   "execution_count": 14,
   "id": "39113f66",
   "metadata": {},
   "outputs": [
    {
     "name": "stdout",
     "output_type": "stream",
     "text": [
      "Enter first no: 5\n",
      "Enter second no: adsf\n",
      "invalid literal for int() with base 10: 'adsf'\n"
     ]
    }
   ],
   "source": [
    "div()"
   ]
  },
  {
   "cell_type": "markdown",
   "id": "09f92d1d",
   "metadata": {},
   "source": [
    "**b. Program to convert a string to an integer**"
   ]
  },
  {
   "cell_type": "code",
   "execution_count": 15,
   "id": "3d696e6d",
   "metadata": {},
   "outputs": [],
   "source": [
    "def string_to_int() -> int:\n",
    "    try:\n",
    "        string = input('Please enter your string: ')\n",
    "        result = int(string)\n",
    "        \n",
    "        return result\n",
    "    except Exception as e:\n",
    "        print(e)"
   ]
  },
  {
   "cell_type": "code",
   "execution_count": 16,
   "id": "0072c8ea",
   "metadata": {},
   "outputs": [
    {
     "name": "stdout",
     "output_type": "stream",
     "text": [
      "Please enter your string: sdf\n",
      "invalid literal for int() with base 10: 'sdf'\n"
     ]
    }
   ],
   "source": [
    "string_to_int()"
   ]
  },
  {
   "cell_type": "code",
   "execution_count": 17,
   "id": "a22b4fa1",
   "metadata": {},
   "outputs": [
    {
     "name": "stdout",
     "output_type": "stream",
     "text": [
      "Please enter your string: 465\n"
     ]
    },
    {
     "data": {
      "text/plain": [
       "465"
      ]
     },
     "execution_count": 17,
     "metadata": {},
     "output_type": "execute_result"
    }
   ],
   "source": [
    "string_to_int()"
   ]
  },
  {
   "cell_type": "markdown",
   "id": "82e37036",
   "metadata": {},
   "source": [
    "**c. Program to access an element in a list**"
   ]
  },
  {
   "cell_type": "code",
   "execution_count": 18,
   "id": "9892a69b",
   "metadata": {},
   "outputs": [],
   "source": [
    "def get_list_item(arg):\n",
    "    try:\n",
    "        element = int(input('Please enter a no. to access the element from a list: '))\n",
    "        if type(arg) == list:\n",
    "            return arg[element]\n",
    "        else:\n",
    "            return f'{arg} invalid input: Please parse a list'\n",
    "    except Exception as e:\n",
    "        print(e)            "
   ]
  },
  {
   "cell_type": "code",
   "execution_count": 19,
   "id": "f154d7d0",
   "metadata": {},
   "outputs": [
    {
     "name": "stdout",
     "output_type": "stream",
     "text": [
      "Please enter a no. to access the element from a list: 6\n"
     ]
    },
    {
     "data": {
      "text/plain": [
       "'ineuron'"
      ]
     },
     "execution_count": 19,
     "metadata": {},
     "output_type": "execute_result"
    }
   ],
   "source": [
    "get_list_item([101,22,3123,32,\"Data Scientist\",5,'ineuron'])"
   ]
  },
  {
   "cell_type": "code",
   "execution_count": 20,
   "id": "4936dbe8",
   "metadata": {},
   "outputs": [
    {
     "name": "stdout",
     "output_type": "stream",
     "text": [
      "Please enter a no. to access the element from a list: 12\n",
      "list index out of range\n"
     ]
    }
   ],
   "source": [
    "get_list_item([101,22,3123,32,\"Data Scientist\",5,'ineuron'])"
   ]
  },
  {
   "cell_type": "markdown",
   "id": "265b100e",
   "metadata": {},
   "source": [
    "**d. Program to handle a specific exception**"
   ]
  },
  {
   "cell_type": "code",
   "execution_count": 21,
   "id": "a7915e7d",
   "metadata": {},
   "outputs": [],
   "source": [
    "def div_operatio() -> int:\n",
    "    try:\n",
    "        a = int(input('Enter first no: '))\n",
    "        b = int(input('Enter second no: '))\n",
    "        result = a / b\n",
    "        return result\n",
    "    except ValueError as v:\n",
    "        print(v, 'Please pars a correct value')\n",
    "    except ZeroDivisionError as z:\n",
    "        print(z, 'cannot be divided zero, use any no. but not zero')    "
   ]
  },
  {
   "cell_type": "code",
   "execution_count": 22,
   "id": "665d3dd5",
   "metadata": {},
   "outputs": [
    {
     "name": "stdout",
     "output_type": "stream",
     "text": [
      "Enter first no: 5\n",
      "Enter second no: 0\n",
      "division by zero cannot be divided zero, use any no. but not zero\n"
     ]
    }
   ],
   "source": [
    "div_operatio()"
   ]
  },
  {
   "cell_type": "code",
   "execution_count": 23,
   "id": "86f448dc",
   "metadata": {},
   "outputs": [
    {
     "name": "stdout",
     "output_type": "stream",
     "text": [
      "Enter first no: 5\n",
      "Enter second no: hklj\n",
      "invalid literal for int() with base 10: 'hklj' Please pars a correct value\n"
     ]
    }
   ],
   "source": [
    "div_operatio()"
   ]
  },
  {
   "cell_type": "markdown",
   "id": "0c2733d1",
   "metadata": {},
   "source": [
    "**e. Program to handle any exception**"
   ]
  },
  {
   "cell_type": "code",
   "execution_count": 24,
   "id": "c7a09d9f",
   "metadata": {},
   "outputs": [],
   "source": [
    "def div2() -> int:\n",
    "    try:\n",
    "        a = int(input('Enter first no: '))\n",
    "        b = int(input('Enter second no: '))\n",
    "        result = a / b\n",
    "        return result\n",
    "    except Exception  as e:\n",
    "        print(e, 'Please check there is an error')    "
   ]
  },
  {
   "cell_type": "code",
   "execution_count": 25,
   "id": "801e0096",
   "metadata": {},
   "outputs": [
    {
     "name": "stdout",
     "output_type": "stream",
     "text": [
      "Enter first no: 65\n",
      "Enter second no: 0\n",
      "division by zero Please check there is an error\n"
     ]
    }
   ],
   "source": [
    "div2()"
   ]
  },
  {
   "cell_type": "code",
   "execution_count": 26,
   "id": "2e33a5f5",
   "metadata": {},
   "outputs": [
    {
     "name": "stdout",
     "output_type": "stream",
     "text": [
      "Enter first no: 4654\n",
      "Enter second no: asd\n",
      "invalid literal for int() with base 10: 'asd' Please check there is an error\n"
     ]
    }
   ],
   "source": [
    "div2()"
   ]
  },
  {
   "cell_type": "code",
   "execution_count": 27,
   "id": "44677222",
   "metadata": {},
   "outputs": [
    {
     "name": "stdout",
     "output_type": "stream",
     "text": [
      "Enter first no: 23.465\n",
      "invalid literal for int() with base 10: '23.465' Please check there is an error\n"
     ]
    }
   ],
   "source": [
    "div2()"
   ]
  }
 ],
 "metadata": {
  "kernelspec": {
   "display_name": "Python 3 (ipykernel)",
   "language": "python",
   "name": "python3"
  },
  "language_info": {
   "codemirror_mode": {
    "name": "ipython",
    "version": 3
   },
   "file_extension": ".py",
   "mimetype": "text/x-python",
   "name": "python",
   "nbconvert_exporter": "python",
   "pygments_lexer": "ipython3",
   "version": "3.9.7"
  }
 },
 "nbformat": 4,
 "nbformat_minor": 5
}
