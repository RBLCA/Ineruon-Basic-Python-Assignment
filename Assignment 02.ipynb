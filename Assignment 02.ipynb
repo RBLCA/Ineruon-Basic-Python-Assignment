{
 "cells": [
  {
   "cell_type": "markdown",
   "id": "5e861ce1",
   "metadata": {},
   "source": [
    "# 1.What are the two values of the Boolean data type? How do you write them?"
   ]
  },
  {
   "cell_type": "markdown",
   "id": "dbfda5b2",
   "metadata": {},
   "source": [
    "Ans :-\n",
    "\n",
    "    There are two values of the Boolean data type\n",
    "    \n",
    "    1) True - 1\n",
    "    \n",
    "    2) False - 0"
   ]
  },
  {
   "cell_type": "markdown",
   "id": "841d5132",
   "metadata": {},
   "source": [
    "# 2. What are the three different types of Boolean operators?"
   ]
  },
  {
   "cell_type": "markdown",
   "id": "009bc12f",
   "metadata": {},
   "source": [
    "Ans:- \n",
    "    \n",
    "    The Three types of Boolean Operators are as follows:\n",
    "    \n",
    "    1) AND\n",
    "    \n",
    "    2) OR\n",
    "    \n",
    "    3) NOT"
   ]
  },
  {
   "cell_type": "markdown",
   "id": "7b15fe49",
   "metadata": {},
   "source": [
    "# 3. Make a list of each Boolean operator's truth tables (i.e. every possible combination of Boolean values for the operator and what it evaluate )."
   ]
  },
  {
   "cell_type": "markdown",
   "id": "f6aa3c4c",
   "metadata": {},
   "source": [
    "Ans:-  The truth table of each Boolean operator's are as follows:\n",
    "    \n",
    "           AND                                         OR                                      NOT\n",
    "           \n",
    "    1) True and True = True                  1) True or True = True                   1) Not True = False\n",
    "    \n",
    "    2) True and False = False                2) True or False = True                  2) Not False = True\n",
    "    \n",
    "    3) False and True = True                 3) False or True = True   \n",
    "     \n",
    "    4) False and False = False               4) False or False = False\n",
    "    "
   ]
  },
  {
   "cell_type": "markdown",
   "id": "9ad4fcf1",
   "metadata": {},
   "source": [
    "# 4. What are the values of the following expressions?"
   ]
  },
  {
   "cell_type": "code",
   "execution_count": 1,
   "id": "66f008bc",
   "metadata": {},
   "outputs": [
    {
     "data": {
      "text/plain": [
       "False"
      ]
     },
     "execution_count": 1,
     "metadata": {},
     "output_type": "execute_result"
    }
   ],
   "source": [
    "(5 > 4) and (3 == 5)\n",
    "#  True and  false = False"
   ]
  },
  {
   "cell_type": "code",
   "execution_count": 2,
   "id": "918a72b9",
   "metadata": {},
   "outputs": [
    {
     "data": {
      "text/plain": [
       "False"
      ]
     },
     "execution_count": 2,
     "metadata": {},
     "output_type": "execute_result"
    }
   ],
   "source": [
    "not (5 > 4)\n",
    "# not True = False"
   ]
  },
  {
   "cell_type": "code",
   "execution_count": 3,
   "id": "00de150e",
   "metadata": {},
   "outputs": [
    {
     "data": {
      "text/plain": [
       "True"
      ]
     },
     "execution_count": 3,
     "metadata": {},
     "output_type": "execute_result"
    }
   ],
   "source": [
    "(5 > 4) or (3 == 5)\n",
    "# True or False = True"
   ]
  },
  {
   "cell_type": "code",
   "execution_count": 4,
   "id": "3ed0b22e",
   "metadata": {},
   "outputs": [
    {
     "data": {
      "text/plain": [
       "False"
      ]
     },
     "execution_count": 4,
     "metadata": {},
     "output_type": "execute_result"
    }
   ],
   "source": [
    "not ((5 > 4) or (3 == 5))\n",
    "# not ((True) or (False))\n",
    "# not (True) = False"
   ]
  },
  {
   "cell_type": "code",
   "execution_count": 5,
   "id": "158b6cfe",
   "metadata": {},
   "outputs": [
    {
     "data": {
      "text/plain": [
       "False"
      ]
     },
     "execution_count": 5,
     "metadata": {},
     "output_type": "execute_result"
    }
   ],
   "source": [
    "(True and True) and (True == False)\n",
    "# True and False =  False"
   ]
  },
  {
   "cell_type": "code",
   "execution_count": 6,
   "id": "188758c6",
   "metadata": {},
   "outputs": [
    {
     "data": {
      "text/plain": [
       "True"
      ]
     },
     "execution_count": 6,
     "metadata": {},
     "output_type": "execute_result"
    }
   ],
   "source": [
    "(not False) or (not True)\n",
    "# True or False =  True"
   ]
  },
  {
   "cell_type": "markdown",
   "id": "db4a7b22",
   "metadata": {},
   "source": [
    "# 5. What are the six comparison operators?"
   ]
  },
  {
   "cell_type": "markdown",
   "id": "3a3321e9",
   "metadata": {},
   "source": [
    "Ans :- The six comparison operator's are follows.\n",
    "    \n",
    "      1) ==  Equal.\n",
    "    \n",
    "      2) !=  Not equal.\n",
    "        \n",
    "      3) >   Greator than. \n",
    "    \n",
    "      4) <   Less than.\n",
    "        \n",
    "      5) >=  Greator than or Equal to.\n",
    "    \n",
    "      6) <=  Less than or Equal to. "
   ]
  },
  {
   "cell_type": "markdown",
   "id": "4fb51bf7",
   "metadata": {},
   "source": [
    "# 6. How do you tell the difference between the equal to and assignment operators?Describe a condition and when you would use one."
   ]
  },
  {
   "cell_type": "markdown",
   "id": "11dc510b",
   "metadata": {},
   "source": [
    "Ans :-\n",
    "    \n",
    "    The assignment operator is always used to assignt varible and it's data type.\n",
    "    For Ex:- A = 10, B = \"Ineuron\", C = [1,2,3,4,6] \n",
    "        These are all assignment operator\n",
    "    \n",
    "    The equal to is comparison operator to compare something.\n",
    "    For Ex:- 10 == 10 , A == 25."
   ]
  },
  {
   "cell_type": "markdown",
   "id": "7e7280e0",
   "metadata": {},
   "source": [
    "# 7. Identify the three blocks in this code:"
   ]
  },
  {
   "cell_type": "markdown",
   "id": "e9a19da0",
   "metadata": {},
   "source": [
    "Ans:-\n",
    "\n",
    "spam = 0\n",
    "\n",
    "# Block One\n",
    "if spam == 10:\n",
    "\n",
    "print('eggs')\n",
    "\n",
    "# Block Two\n",
    "if spam > 5:\n",
    "\n",
    "print('bacon')\n",
    "\n",
    "# Block Three\n",
    "else:\n",
    "print('ham')\n",
    "\n",
    "print('spam')\n",
    "\n",
    "print('spam')\n"
   ]
  },
  {
   "cell_type": "markdown",
   "id": "7a21264b",
   "metadata": {},
   "source": [
    "# 8. Write code that prints Hello if 1 is stored in spam, prints Howdy if 2 is stored in spam, and prints Greetings! if anything else is stored in spam. "
   ]
  },
  {
   "cell_type": "markdown",
   "id": "0407b47e",
   "metadata": {},
   "source": [
    "Ans :-"
   ]
  },
  {
   "cell_type": "code",
   "execution_count": 3,
   "id": "0521d8f3",
   "metadata": {},
   "outputs": [
    {
     "name": "stdout",
     "output_type": "stream",
     "text": [
      "3\n",
      "Greetings!\n"
     ]
    }
   ],
   "source": [
    "spam  = int(input())\n",
    "if spam == 1:\n",
    "    print(\"Hello\")\n",
    "elif spam == 2:\n",
    "    print(\"Howdy\")\n",
    "else:\n",
    "    print(\"Greetings!\")"
   ]
  },
  {
   "cell_type": "markdown",
   "id": "7ec8c9f2",
   "metadata": {},
   "source": [
    "# 9.If your programme is stuck in an endless loop, what keys you’ll press?"
   ]
  },
  {
   "cell_type": "markdown",
   "id": "0a642705",
   "metadata": {},
   "source": [
    "Ans :-\n",
    "    \n",
    "    Press Interrupt kernel  key to stop the endless loop."
   ]
  },
  {
   "cell_type": "markdown",
   "id": "7d4f8883",
   "metadata": {},
   "source": [
    "# 10. How can you tell the difference between break and continue?"
   ]
  },
  {
   "cell_type": "markdown",
   "id": "24ddcf77",
   "metadata": {},
   "source": [
    "Ans :-\n",
    "    \n",
    "                   break                                                   continue\n",
    "    1) It is pre-defined key which is available in python     1) It is pre-defined key is available in python programming\n",
    "       programming language. break is used to the break the      language. continue is used to end the current iteration\n",
    "       entire loop and come out of loop.                         in a loop and continues to next iteration.\n",
    "    \n",
    "    2) The break statement is usually used with the           2) The coninue statement is not used with switch statement.\n",
    "       switch statement. and can also used it within             but it can be used with for-loop, while-loop.\n",
    "       for-loop, while-loop.\n",
    "    \n",
    "    3) syntax - break                                         3) syntax - continue.\n",
    "     "
   ]
  },
  {
   "cell_type": "markdown",
   "id": "678c539b",
   "metadata": {},
   "source": [
    "# 11. In a for loop, what is the difference between range(10), range(0, 10), and range(0, 10, 1)?"
   ]
  },
  {
   "cell_type": "markdown",
   "id": "c31716a3",
   "metadata": {},
   "source": [
    "Ans :- \n",
    "    \n",
    "    There is no difference between range(10), range(0,10) and range(0,10,1)\n",
    "    \n",
    "    it will generate the data from 0 to 10 excluding 10 i.e. 0-9\n",
    "    \n",
    "    as shown in below."
   ]
  },
  {
   "cell_type": "code",
   "execution_count": 8,
   "id": "b729cad7",
   "metadata": {},
   "outputs": [
    {
     "name": "stdout",
     "output_type": "stream",
     "text": [
      "0\n",
      "1\n",
      "2\n",
      "3\n",
      "4\n",
      "5\n",
      "6\n",
      "7\n",
      "8\n",
      "9\n"
     ]
    }
   ],
   "source": [
    "for i in range(10):\n",
    "    print(i)"
   ]
  },
  {
   "cell_type": "code",
   "execution_count": 9,
   "id": "3a44caf3",
   "metadata": {},
   "outputs": [
    {
     "name": "stdout",
     "output_type": "stream",
     "text": [
      "0\n",
      "1\n",
      "2\n",
      "3\n",
      "4\n",
      "5\n",
      "6\n",
      "7\n",
      "8\n",
      "9\n"
     ]
    }
   ],
   "source": [
    "for i in range(0,10):\n",
    "    print(i)"
   ]
  },
  {
   "cell_type": "code",
   "execution_count": 10,
   "id": "c07bc642",
   "metadata": {},
   "outputs": [
    {
     "name": "stdout",
     "output_type": "stream",
     "text": [
      "0\n",
      "1\n",
      "2\n",
      "3\n",
      "4\n",
      "5\n",
      "6\n",
      "7\n",
      "8\n",
      "9\n"
     ]
    }
   ],
   "source": [
    "for i in range(0,10,1):\n",
    "    print(i)"
   ]
  },
  {
   "cell_type": "markdown",
   "id": "0682a787",
   "metadata": {},
   "source": [
    "# 12. Write a short program that prints the numbers 1 to 10 using a for loop. Then write an equivalent program that prints the numbers 1 to 10 using a while loop.\n"
   ]
  },
  {
   "cell_type": "markdown",
   "id": "072bd07b",
   "metadata": {},
   "source": [
    "Ans:- "
   ]
  },
  {
   "cell_type": "code",
   "execution_count": 11,
   "id": "f3000d0f",
   "metadata": {},
   "outputs": [
    {
     "name": "stdout",
     "output_type": "stream",
     "text": [
      "0\n",
      "1\n",
      "2\n",
      "3\n",
      "4\n",
      "5\n",
      "6\n",
      "7\n",
      "8\n",
      "9\n",
      "10\n"
     ]
    }
   ],
   "source": [
    "# Printing the numbers using for loop.\n",
    "for i in range(11):\n",
    "    print(i)"
   ]
  },
  {
   "cell_type": "code",
   "execution_count": 12,
   "id": "552483e3",
   "metadata": {},
   "outputs": [
    {
     "name": "stdout",
     "output_type": "stream",
     "text": [
      "0\n",
      "1\n",
      "2\n",
      "3\n",
      "4\n",
      "5\n",
      "6\n",
      "7\n",
      "8\n",
      "9\n",
      "10\n"
     ]
    }
   ],
   "source": [
    "# Printing the numbers using while loop:\n",
    "a = 0\n",
    "while a < 11:\n",
    "    print(a)\n",
    "    a = a + 1"
   ]
  },
  {
   "cell_type": "markdown",
   "id": "8dc85f2e",
   "metadata": {},
   "source": [
    "# 13. If you had a function named bacon() inside a module named spam, how would you call it after importing spam?"
   ]
  },
  {
   "cell_type": "markdown",
   "id": "46c5c80f",
   "metadata": {},
   "source": [
    "Ans:-\n",
    "    \n",
    "    After importing spam\n",
    "    \n",
    "    use spam.beacon() to call it."
   ]
  }
 ],
 "metadata": {
  "kernelspec": {
   "display_name": "Python 3 (ipykernel)",
   "language": "python",
   "name": "python3"
  },
  "language_info": {
   "codemirror_mode": {
    "name": "ipython",
    "version": 3
   },
   "file_extension": ".py",
   "mimetype": "text/x-python",
   "name": "python",
   "nbconvert_exporter": "python",
   "pygments_lexer": "ipython3",
   "version": "3.9.7"
  }
 },
 "nbformat": 4,
 "nbformat_minor": 5
}
