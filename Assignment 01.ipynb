{
 "cells": [
  {
   "cell_type": "markdown",
   "id": "c46e2348",
   "metadata": {},
   "source": [
    "# 1. In the below elements which of them are values or an expression? eg:- values can be integer or string and expressions will be mathematical operators."
   ]
  },
  {
   "cell_type": "markdown",
   "id": "26d2490e",
   "metadata": {},
   "source": [
    "Ans:- \n",
    "\n",
    "    * ---------------> Expression\n",
    "    \n",
    "    'hello' --------> Value\n",
    "    \n",
    "    -87.8 -----------> Value\n",
    "    \n",
    "    -     -----------> Expression\n",
    "    \n",
    "    /     -----------> Expression\n",
    "    \n",
    "    +     -----------> Expression\n",
    "    \n",
    "    6     -----------> Value  "
   ]
  },
  {
   "cell_type": "markdown",
   "id": "69eb6b9e",
   "metadata": {},
   "source": [
    "# 2. What is the difference between string and variable?"
   ]
  },
  {
   "cell_type": "markdown",
   "id": "5c23cc35",
   "metadata": {},
   "source": [
    "Ans:- \n",
    "    \n",
    "                              String                                              Variable\n",
    "                             \n",
    "       1) String is a collection of character.             1) Variable is kind of entities which help you to store or hold\n",
    "                                                              your data inside temporary type of memory(RAM.)\n",
    "                                                              \n",
    "                                                              \n",
    "       2) Strring represented in the quotation mark.       2) Variable may contain letter,digit, or the underscore \n",
    "          i.e. single quotation  ' '                          character. \n",
    "               Double quotation  \" \"\n",
    "               \n",
    "       3) Ex:                                              3) Ex:\n",
    "              'Ineuron' Or \"Ineuron\"                             A = 10, A2 = 25, A_3 = 50\n",
    "    "
   ]
  },
  {
   "cell_type": "markdown",
   "id": "938e1b71",
   "metadata": {},
   "source": [
    "# 3. Describe three different data types."
   ]
  },
  {
   "cell_type": "markdown",
   "id": "537edd5c",
   "metadata": {},
   "source": [
    "Ans:- \n",
    "\n",
    "    Different data type are as follows:\n",
    "        \n",
    "    1) Numeric :- i) Integer - 253\n",
    "                 ii) Float - 25.25\n",
    "                iii) Complex - 5+5j\n",
    "                \n",
    "    2) Dictionary\n",
    "    \n",
    "    3) Boolean :- True and False\n",
    "        \n",
    "    4) Set\n",
    "    \n",
    "    5) Sequence Type :- i) String\n",
    "                       ii) List \n",
    "                      iii) Tuples"
   ]
  },
  {
   "cell_type": "markdown",
   "id": "c7755367",
   "metadata": {},
   "source": [
    "# 4. What is an expression made up of? What do all expressions do?"
   ]
  },
  {
   "cell_type": "markdown",
   "id": "adde9991",
   "metadata": {},
   "source": [
    "Ans:- \n",
    "    \n",
    "    Expression is a combination of operators and operand which is used to create some value."
   ]
  },
  {
   "cell_type": "markdown",
   "id": "6df218d5",
   "metadata": {},
   "source": [
    "# 5. This assignment statements, like spam = 10. What is the difference between an expression and a statement?"
   ]
  },
  {
   "cell_type": "markdown",
   "id": "c890ffe1",
   "metadata": {},
   "source": [
    "Ans:\n",
    "    \n",
    "            Expression                                                 Statement\n",
    "            \n",
    "    1) Expressin is made of operator and operand which is       1) A statement execute something\n",
    "       used to create some value\n",
    "       \n",
    "    2) Expression alway's return a value                        2) A statement never returns a value.\n",
    "    \n",
    "    3) Can print result value                                   3) Cannot print result value\n",
    "    \n",
    "    4) Ex: spam = 10                                            4) Ex: Assignment statement like spam = 10\n",
    "       In  spam + 1\n",
    "       Out 11\n",
    "           "
   ]
  },
  {
   "cell_type": "markdown",
   "id": "f28b3d77",
   "metadata": {},
   "source": [
    "# 6. After running the following code, what does the variable bacon contain?\n",
    "bacon = 22\n",
    "\n",
    "bacon + 1\n"
   ]
  },
  {
   "cell_type": "markdown",
   "id": "62672c71",
   "metadata": {},
   "source": [
    "Ans:"
   ]
  },
  {
   "cell_type": "code",
   "execution_count": 1,
   "id": "e6286198",
   "metadata": {},
   "outputs": [
    {
     "data": {
      "text/plain": [
       "23"
      ]
     },
     "execution_count": 1,
     "metadata": {},
     "output_type": "execute_result"
    }
   ],
   "source": [
    "bacon  = 22\n",
    "bacon + 1"
   ]
  },
  {
   "cell_type": "markdown",
   "id": "eef1f5a8",
   "metadata": {},
   "source": [
    "# 7. What should the values of the following two terms be?\n",
    "\n",
    "'spam' + 'spamspam'\n",
    "\n",
    "'spam' * 3\n"
   ]
  },
  {
   "cell_type": "markdown",
   "id": "7c3f4459",
   "metadata": {},
   "source": [
    "Ans:-"
   ]
  },
  {
   "cell_type": "code",
   "execution_count": 2,
   "id": "44c3ac55",
   "metadata": {},
   "outputs": [
    {
     "data": {
      "text/plain": [
       "'spamspamspam'"
      ]
     },
     "execution_count": 2,
     "metadata": {},
     "output_type": "execute_result"
    }
   ],
   "source": [
    "'spam' + 'spamspam'"
   ]
  },
  {
   "cell_type": "code",
   "execution_count": 3,
   "id": "6c01d78e",
   "metadata": {},
   "outputs": [
    {
     "data": {
      "text/plain": [
       "'spamspamspam'"
      ]
     },
     "execution_count": 3,
     "metadata": {},
     "output_type": "execute_result"
    }
   ],
   "source": [
    "'spam' * 3"
   ]
  },
  {
   "cell_type": "markdown",
   "id": "6bfe228c",
   "metadata": {},
   "source": [
    "# 8. Why is eggs a valid variable name while 100 is invalid?"
   ]
  },
  {
   "cell_type": "markdown",
   "id": "93caece7",
   "metadata": {},
   "source": [
    "Ans: \n",
    "    \n",
    "    Variable name always start with letter and not start with a numbers because of inbuilt property.\n",
    "    \n",
    "    that's why eggs is valid varible and 100 is invalid.\n",
    "    \n",
    "    but no can be used in variable with and after letter or Underscore.\n",
    "    \n",
    "    For example are as bellow:"
   ]
  },
  {
   "cell_type": "code",
   "execution_count": 4,
   "id": "4389ec3e",
   "metadata": {},
   "outputs": [],
   "source": [
    "eggs = 100"
   ]
  },
  {
   "cell_type": "code",
   "execution_count": 5,
   "id": "b9d37819",
   "metadata": {},
   "outputs": [],
   "source": [
    "eggs100 = 250"
   ]
  },
  {
   "cell_type": "code",
   "execution_count": 6,
   "id": "682864c6",
   "metadata": {},
   "outputs": [],
   "source": [
    "eggs_100 = 500"
   ]
  },
  {
   "cell_type": "markdown",
   "id": "22ad1019",
   "metadata": {},
   "source": [
    "# 9. What three functions can be used to get the integer, floating-point number, or string version of a value?"
   ]
  },
  {
   "cell_type": "markdown",
   "id": "cfdf4dce",
   "metadata": {},
   "source": [
    "Ans:\n",
    "    \n",
    "    Following function can be used:\n",
    "        \n",
    "    int()\n",
    "    \n",
    "    float()\n",
    "    \n",
    "    str()\n",
    "    "
   ]
  },
  {
   "cell_type": "markdown",
   "id": "e1feda9f",
   "metadata": {},
   "source": [
    "# 10. Why does this expression cause an error? How can you fix it?\n",
    "'I have eaten ' + 99 + ' burritos.'\n"
   ]
  },
  {
   "cell_type": "markdown",
   "id": "9b73f97c",
   "metadata": {},
   "source": [
    "Ans:\n",
    "    \n",
    "    This expression cause error because concatination of string with integer is not possible.\n",
    "    \n",
    "    to fix it we have to convert integer 99 into string by using type casting as follows:\n",
    "        "
   ]
  },
  {
   "cell_type": "code",
   "execution_count": 7,
   "id": "1860c18d",
   "metadata": {},
   "outputs": [
    {
     "data": {
      "text/plain": [
       "'I have eaten 99 burritos'"
      ]
     },
     "execution_count": 7,
     "metadata": {},
     "output_type": "execute_result"
    }
   ],
   "source": [
    "'I have eaten ' + '99' + ' burritos'"
   ]
  },
  {
   "cell_type": "markdown",
   "id": "ffe8ade2",
   "metadata": {},
   "source": [
    "OR"
   ]
  },
  {
   "cell_type": "code",
   "execution_count": 8,
   "id": "309456cb",
   "metadata": {},
   "outputs": [
    {
     "data": {
      "text/plain": [
       "'I have eaten 99 burritos'"
      ]
     },
     "execution_count": 8,
     "metadata": {},
     "output_type": "execute_result"
    }
   ],
   "source": [
    "'I have eaten ' + \"99\" + ' burritos'"
   ]
  },
  {
   "cell_type": "markdown",
   "id": "5d3ca157",
   "metadata": {},
   "source": [
    "OR|"
   ]
  },
  {
   "cell_type": "code",
   "execution_count": 9,
   "id": "745d38c6",
   "metadata": {},
   "outputs": [
    {
     "data": {
      "text/plain": [
       "'I have eaten 99 burritos'"
      ]
     },
     "execution_count": 9,
     "metadata": {},
     "output_type": "execute_result"
    }
   ],
   "source": [
    "'I have eaten ' + str(99) + ' burritos'"
   ]
  }
 ],
 "metadata": {
  "kernelspec": {
   "display_name": "Python 3 (ipykernel)",
   "language": "python",
   "name": "python3"
  },
  "language_info": {
   "codemirror_mode": {
    "name": "ipython",
    "version": 3
   },
   "file_extension": ".py",
   "mimetype": "text/x-python",
   "name": "python",
   "nbconvert_exporter": "python",
   "pygments_lexer": "ipython3",
   "version": "3.9.7"
  }
 },
 "nbformat": 4,
 "nbformat_minor": 5
}
