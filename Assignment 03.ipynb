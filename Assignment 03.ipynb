{
 "cells": [
  {
   "cell_type": "markdown",
   "id": "534bbc68",
   "metadata": {},
   "source": [
    "# 1. Why are functions advantageous to have in your programs?"
   ]
  },
  {
   "cell_type": "markdown",
   "id": "5ee9bf0a",
   "metadata": {},
   "source": [
    "Ans:\n",
    "    \n",
    "    1. Function help to reduce need for duplicate code.\n",
    "    \n",
    "    2. This makes programs shorter, easier to read, and easier to update.\n",
    "    \n",
    "    3. It's increase the reusability of code."
   ]
  },
  {
   "cell_type": "markdown",
   "id": "0e87e95a",
   "metadata": {},
   "source": [
    "# 2. When does the code in a function run: when it's specified or when it's called?"
   ]
  },
  {
   "cell_type": "markdown",
   "id": "945ea288",
   "metadata": {},
   "source": [
    "Ans:\n",
    "    \n",
    "    The code in a function execute successfully when it's called. it's not run when it's specified."
   ]
  },
  {
   "cell_type": "markdown",
   "id": "47debe23",
   "metadata": {},
   "source": [
    "# 3. What statement creates a function?"
   ]
  },
  {
   "cell_type": "markdown",
   "id": "60d6bf25",
   "metadata": {},
   "source": [
    "Ans:\n",
    "    \n",
    "    The def statement creates a function."
   ]
  },
  {
   "cell_type": "markdown",
   "id": "412d92ea",
   "metadata": {},
   "source": [
    "# 4. What is the difference between a function and a function call?"
   ]
  },
  {
   "cell_type": "markdown",
   "id": "444fd71e",
   "metadata": {},
   "source": [
    "Ans:\n",
    "    \n",
    "    A function consist of def statement that's create a function.\n",
    "    \n",
    "    A function call is used to perform a specific task, evaluate and return a value."
   ]
  },
  {
   "cell_type": "markdown",
   "id": "a300bd5a",
   "metadata": {},
   "source": [
    "# 5. How many global scopes are there in a Python program? How many local scopes?"
   ]
  },
  {
   "cell_type": "markdown",
   "id": "f842f85c",
   "metadata": {},
   "source": [
    "Ans:\n",
    "    \n",
    "    There is one global scope and a local scope is created whenever a function is called."
   ]
  },
  {
   "cell_type": "markdown",
   "id": "a8175790",
   "metadata": {},
   "source": [
    "# 6. What happens to variables in a local scope when the function call returns?"
   ]
  },
  {
   "cell_type": "markdown",
   "id": "4ac779c1",
   "metadata": {},
   "source": [
    "Ans:\n",
    "    \n",
    "    When a function returns, the local scope is destroyed, and all the variables in it are forgotten."
   ]
  },
  {
   "cell_type": "markdown",
   "id": "a926f045",
   "metadata": {},
   "source": [
    "# 7. What is the concept of a return value? Is it possible to have a return value in an expression?"
   ]
  },
  {
   "cell_type": "markdown",
   "id": "95b10065",
   "metadata": {},
   "source": [
    "Ans:\n",
    "    \n",
    "    Return value is the values that funciton evaluate. like any other value, return value can be used as a part of \n",
    "    expression."
   ]
  },
  {
   "cell_type": "markdown",
   "id": "57487fb8",
   "metadata": {},
   "source": [
    "# 8. If a function does not have a return statement, what is the return value of a call to that function?"
   ]
  },
  {
   "cell_type": "markdown",
   "id": "b24666be",
   "metadata": {},
   "source": [
    "Ans:\n",
    "    \n",
    "    If a function does not have a return statement. It's return the value which is None."
   ]
  },
  {
   "cell_type": "markdown",
   "id": "9c21e736",
   "metadata": {},
   "source": [
    "# 9. How do you make a function variable refer to the global variable?"
   ]
  },
  {
   "cell_type": "markdown",
   "id": "53bd4af4",
   "metadata": {},
   "source": [
    "Ans:\n",
    "    \n",
    "    A global variable force a varible inside function to refer the global variable."
   ]
  },
  {
   "cell_type": "markdown",
   "id": "e7a79f7a",
   "metadata": {},
   "source": [
    "# 10. What is the data type of None?"
   ]
  },
  {
   "cell_type": "markdown",
   "id": "e1936f70",
   "metadata": {},
   "source": [
    "Ans:\n",
    "    \n",
    "    A data type of None is None type."
   ]
  },
  {
   "cell_type": "markdown",
   "id": "d2aeffa2",
   "metadata": {},
   "source": [
    "# 11. What does the sentence import areallyourpetsnamederic do?"
   ]
  },
  {
   "cell_type": "markdown",
   "id": "19d1e1ab",
   "metadata": {},
   "source": [
    "Ans:\n",
    "    \n",
    "    This import sentence import module areallyourpetsbaederic."
   ]
  },
  {
   "cell_type": "markdown",
   "id": "9839df6d",
   "metadata": {},
   "source": [
    "# 12. If you had a bacon() feature in a spam module, what would you call it after importing spam?"
   ]
  },
  {
   "cell_type": "markdown",
   "id": "bfc82ade",
   "metadata": {},
   "source": [
    "Ans:\n",
    "     \n",
    "    This funciton can be called with spam.bacon()."
   ]
  },
  {
   "cell_type": "markdown",
   "id": "8a5101c4",
   "metadata": {},
   "source": [
    "# 13. What can you do to save a programme from crashing if it encounters an error?"
   ]
  },
  {
   "cell_type": "markdown",
   "id": "229a3df6",
   "metadata": {},
   "source": [
    "Ans:\n",
    "    \n",
    "    With the used exception handling we can save a programme from crashing if it encounters an error.\n",
    "    \n",
    "    Write a code in try and except block."
   ]
  },
  {
   "cell_type": "markdown",
   "id": "4e2b7e2a",
   "metadata": {},
   "source": [
    "# 14. What is the purpose of the try clause? What is the purpose of the except clause?"
   ]
  },
  {
   "cell_type": "markdown",
   "id": "cea95d93",
   "metadata": {},
   "source": [
    "Ans:\n",
    "    \n",
    "    The code which you think gives an error goes through try clause.\n",
    "    \n",
    "    The except clause will return what kind of error happen in try block. except syntax error."
   ]
  }
 ],
 "metadata": {
  "kernelspec": {
   "display_name": "Python 3 (ipykernel)",
   "language": "python",
   "name": "python3"
  },
  "language_info": {
   "codemirror_mode": {
    "name": "ipython",
    "version": 3
   },
   "file_extension": ".py",
   "mimetype": "text/x-python",
   "name": "python",
   "nbconvert_exporter": "python",
   "pygments_lexer": "ipython3",
   "version": "3.9.7"
  }
 },
 "nbformat": 4,
 "nbformat_minor": 5
}
