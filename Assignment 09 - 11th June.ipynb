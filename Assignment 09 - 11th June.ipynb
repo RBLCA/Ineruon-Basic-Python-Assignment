{
 "cells": [
  {
   "cell_type": "markdown",
   "id": "a1683e50",
   "metadata": {},
   "source": [
    "# 1. What is a lambda function in Python, and how does it differ from a regular function?"
   ]
  },
  {
   "cell_type": "markdown",
   "id": "a9674b72",
   "metadata": {},
   "source": [
    "Ans:-\n",
    "    \n",
    "    lambda function is mainly known as anonymous function. i.e. function wihtout name. whereas regular funcition having\n",
    "    their own name.\n",
    "    \n",
    "    lambda is a reserved keyword to define lambda function. whereas, def is regular keyword to define regular function.\n",
    "    \n",
    "    lambda function is used when it's body have easy and compact synatax. whereas, regular function having complex logic."
   ]
  },
  {
   "cell_type": "code",
   "execution_count": 1,
   "id": "ae45c13f",
   "metadata": {},
   "outputs": [],
   "source": [
    "# Regular function \n",
    "def Hello():\n",
    "    print('Hello, This is regular function.')"
   ]
  },
  {
   "cell_type": "code",
   "execution_count": 2,
   "id": "95848bf6",
   "metadata": {},
   "outputs": [
    {
     "name": "stdout",
     "output_type": "stream",
     "text": [
      "Hello, This is regular function.\n"
     ]
    }
   ],
   "source": [
    "Hello()"
   ]
  },
  {
   "cell_type": "code",
   "execution_count": 3,
   "id": "450ab346",
   "metadata": {},
   "outputs": [],
   "source": [
    "lamb = lambda  : 'Hello, this is lambda function.'"
   ]
  },
  {
   "cell_type": "code",
   "execution_count": 4,
   "id": "154e7271",
   "metadata": {},
   "outputs": [
    {
     "data": {
      "text/plain": [
       "'Hello, this is lambda function.'"
      ]
     },
     "execution_count": 4,
     "metadata": {},
     "output_type": "execute_result"
    }
   ],
   "source": [
    "lamb()"
   ]
  },
  {
   "cell_type": "markdown",
   "id": "8afca8e9",
   "metadata": {},
   "source": [
    "# 2. Can a lambda function in Python have multiple arguments? If yes, how can you define and use them?"
   ]
  },
  {
   "cell_type": "code",
   "execution_count": 5,
   "id": "da9698f9",
   "metadata": {},
   "outputs": [],
   "source": [
    "test = lambda a,b,c: a+b+c"
   ]
  },
  {
   "cell_type": "code",
   "execution_count": 6,
   "id": "c47d0c27",
   "metadata": {},
   "outputs": [
    {
     "data": {
      "text/plain": [
       "7"
      ]
     },
     "execution_count": 6,
     "metadata": {},
     "output_type": "execute_result"
    }
   ],
   "source": [
    "test(1,2,4)"
   ]
  },
  {
   "cell_type": "code",
   "execution_count": 7,
   "id": "9882964d",
   "metadata": {},
   "outputs": [],
   "source": [
    "test1 = lambda *args : args"
   ]
  },
  {
   "cell_type": "code",
   "execution_count": 8,
   "id": "cb9df16c",
   "metadata": {},
   "outputs": [
    {
     "data": {
      "text/plain": [
       "(1, 2, 3, 4, 5, 'ineuron', 'Data science')"
      ]
     },
     "execution_count": 8,
     "metadata": {},
     "output_type": "execute_result"
    }
   ],
   "source": [
    "test1(1,2,3,4,5,'ineuron', 'Data science')"
   ]
  },
  {
   "cell_type": "markdown",
   "id": "ad40d6d0",
   "metadata": {},
   "source": [
    "# 3. How are lambda functions typically used in Python? Provide an example use case."
   ]
  },
  {
   "cell_type": "markdown",
   "id": "052e7df8",
   "metadata": {},
   "source": [
    "Ans:- \n",
    "    \n",
    "    Lambda function are similar to user-defined functions but without a name. They are commonly referred to anonymous \n",
    "    functions.\n",
    "    \n",
    "    Lambda functions are efficient whenever you want to create a function that will only contain simply expressions - that \n",
    "    is, expressions that are a single line statement. They're also useful when you want to use the function once.\n",
    "    \n",
    "    lambda is reseved to to define a lambda function."
   ]
  },
  {
   "cell_type": "code",
   "execution_count": 9,
   "id": "fdb984e1",
   "metadata": {},
   "outputs": [],
   "source": [
    "sqr = lambda a : a*a"
   ]
  },
  {
   "cell_type": "code",
   "execution_count": 10,
   "id": "e581ee84",
   "metadata": {},
   "outputs": [
    {
     "data": {
      "text/plain": [
       "25"
      ]
     },
     "execution_count": 10,
     "metadata": {},
     "output_type": "execute_result"
    }
   ],
   "source": [
    "sqr(5)"
   ]
  },
  {
   "cell_type": "markdown",
   "id": "33ebe1e5",
   "metadata": {},
   "source": [
    "# 4. What are the advantages and limitations of lambda functions compared to regular functions in Python?"
   ]
  },
  {
   "cell_type": "markdown",
   "id": "fb98e4b7",
   "metadata": {},
   "source": [
    "Ans:-\n",
    "\n",
    "   **Advantages:**\n",
    "        \n",
    "    Lambda function can only have a single line of code within them. Whereas, regular function not.\n",
    "    \n",
    "    Lambda function return autimatically, no need of used return keyword.\n",
    "\n",
    "   **Limitations:**\n",
    "   \n",
    "    Lambda function don't have a docsting. So, it is hard to understand the use of particular lambda function. \n",
    "    Whereas, regular function have a docstring and easy to understand the use of particuar regular function.\n",
    "    \n",
    "    Lambda functio don't have a name. Whereas, regular function have a name.    "
   ]
  },
  {
   "cell_type": "markdown",
   "id": "d1719e5f",
   "metadata": {},
   "source": [
    "# 5. Are lambda functions in Python able to access variables defined outside of their own scope? Explain with an example."
   ]
  },
  {
   "cell_type": "code",
   "execution_count": 11,
   "id": "7e828447",
   "metadata": {},
   "outputs": [],
   "source": [
    "a = 'ineuron'\n",
    "name = lambda : a"
   ]
  },
  {
   "cell_type": "code",
   "execution_count": 12,
   "id": "e6d9bf54",
   "metadata": {},
   "outputs": [
    {
     "data": {
      "text/plain": [
       "'ineuron'"
      ]
     },
     "execution_count": 12,
     "metadata": {},
     "output_type": "execute_result"
    }
   ],
   "source": [
    "name()"
   ]
  },
  {
   "cell_type": "code",
   "execution_count": 13,
   "id": "12f18154",
   "metadata": {},
   "outputs": [],
   "source": [
    "new= lambda : a"
   ]
  },
  {
   "cell_type": "code",
   "execution_count": 14,
   "id": "051de45a",
   "metadata": {},
   "outputs": [
    {
     "data": {
      "text/plain": [
       "'ineuron'"
      ]
     },
     "execution_count": 14,
     "metadata": {},
     "output_type": "execute_result"
    }
   ],
   "source": [
    "new()"
   ]
  },
  {
   "cell_type": "markdown",
   "id": "07278a2e",
   "metadata": {},
   "source": [
    "# 6. Write a lambda function to calculate the square of a given number"
   ]
  },
  {
   "cell_type": "code",
   "execution_count": 15,
   "id": "938f276d",
   "metadata": {},
   "outputs": [],
   "source": [
    "square = lambda a : a* a"
   ]
  },
  {
   "cell_type": "code",
   "execution_count": 16,
   "id": "fac0ec27",
   "metadata": {},
   "outputs": [
    {
     "data": {
      "text/plain": [
       "100"
      ]
     },
     "execution_count": 16,
     "metadata": {},
     "output_type": "execute_result"
    }
   ],
   "source": [
    "square(10)"
   ]
  },
  {
   "cell_type": "code",
   "execution_count": 17,
   "id": "93e37960",
   "metadata": {},
   "outputs": [
    {
     "data": {
      "text/plain": [
       "144"
      ]
     },
     "execution_count": 17,
     "metadata": {},
     "output_type": "execute_result"
    }
   ],
   "source": [
    "square(12)"
   ]
  },
  {
   "cell_type": "code",
   "execution_count": 18,
   "id": "054d1070",
   "metadata": {},
   "outputs": [
    {
     "data": {
      "text/plain": [
       "9"
      ]
     },
     "execution_count": 18,
     "metadata": {},
     "output_type": "execute_result"
    }
   ],
   "source": [
    "square(3)"
   ]
  },
  {
   "cell_type": "markdown",
   "id": "ec83e2c6",
   "metadata": {},
   "source": [
    "# 7. Create a lambda function to find the maximum value in a list of integers."
   ]
  },
  {
   "cell_type": "code",
   "execution_count": 19,
   "id": "677a0bfe",
   "metadata": {},
   "outputs": [],
   "source": [
    "maximum = lambda a: max(a)"
   ]
  },
  {
   "cell_type": "code",
   "execution_count": 20,
   "id": "e277d965",
   "metadata": {},
   "outputs": [],
   "source": [
    "list1 = [1,2,3,212,2,12,12,3,22.21,212,0.4, 12323]"
   ]
  },
  {
   "cell_type": "code",
   "execution_count": 21,
   "id": "754b328c",
   "metadata": {},
   "outputs": [
    {
     "data": {
      "text/plain": [
       "12323"
      ]
     },
     "execution_count": 21,
     "metadata": {},
     "output_type": "execute_result"
    }
   ],
   "source": [
    "maximum(list1)"
   ]
  },
  {
   "cell_type": "markdown",
   "id": "88bf93e2",
   "metadata": {},
   "source": [
    "# 8. Implement a lambda function to filter out all the even numbers from a list of integers."
   ]
  },
  {
   "cell_type": "code",
   "execution_count": 22,
   "id": "355553e1",
   "metadata": {},
   "outputs": [],
   "source": [
    "even = lambda a: [i for i in a if i % 2 == 0]"
   ]
  },
  {
   "cell_type": "code",
   "execution_count": 23,
   "id": "7a85dc2a",
   "metadata": {},
   "outputs": [
    {
     "data": {
      "text/plain": [
       "[2, 4, 4, 2, 66, 88, 6, 20, 90, 644]"
      ]
     },
     "execution_count": 23,
     "metadata": {},
     "output_type": "execute_result"
    }
   ],
   "source": [
    "even([1,2,3,4,21,23,4,5,23,35,23,2,66,5,3,345,75,88,6,39,20,23,45,90, 644])"
   ]
  },
  {
   "cell_type": "markdown",
   "id": "7f60282b",
   "metadata": {},
   "source": [
    "# 9. Write a lambda function to sort a list of strings in ascending order based on the length of each string."
   ]
  },
  {
   "cell_type": "code",
   "execution_count": 24,
   "id": "d9c1d765",
   "metadata": {},
   "outputs": [],
   "source": [
    "sort_string_list = lambda arg: sorted(arg)"
   ]
  },
  {
   "cell_type": "code",
   "execution_count": 25,
   "id": "a5b43712",
   "metadata": {},
   "outputs": [],
   "source": [
    "string_list = ['Mig29', 'SU-3OMKI', 'F-22', 'Eurofighter', 'Gripen', 'Rafale', 'Mirage', 'Tejas']"
   ]
  },
  {
   "cell_type": "code",
   "execution_count": 26,
   "id": "196b8ff0",
   "metadata": {},
   "outputs": [
    {
     "data": {
      "text/plain": [
       "['Eurofighter',\n",
       " 'F-22',\n",
       " 'Gripen',\n",
       " 'Mig29',\n",
       " 'Mirage',\n",
       " 'Rafale',\n",
       " 'SU-3OMKI',\n",
       " 'Tejas']"
      ]
     },
     "execution_count": 26,
     "metadata": {},
     "output_type": "execute_result"
    }
   ],
   "source": [
    "sort_string_list(string_list)"
   ]
  },
  {
   "cell_type": "markdown",
   "id": "e1e29e5b",
   "metadata": {},
   "source": [
    "# 10. Create a lambda function that takes two lists as input and returns a new list containing the common elements between the two lists"
   ]
  },
  {
   "cell_type": "code",
   "execution_count": 27,
   "id": "0f901353",
   "metadata": {},
   "outputs": [],
   "source": [
    "common = lambda a,b: [i for i in a if i in b]"
   ]
  },
  {
   "cell_type": "code",
   "execution_count": 28,
   "id": "92a0334b",
   "metadata": {},
   "outputs": [
    {
     "data": {
      "text/plain": [
       "[2, 3, 'ineuron']"
      ]
     },
     "execution_count": 28,
     "metadata": {},
     "output_type": "execute_result"
    }
   ],
   "source": [
    "common([1,2,3,'ineuron', 'Data science','Scientist'],[2,3,53, 23.23, 'Harry', 'ineuron'])"
   ]
  },
  {
   "cell_type": "markdown",
   "id": "31ed5b20",
   "metadata": {},
   "source": [
    "# 11. Write a recursive function to calculate the factorial of a given positive integer"
   ]
  },
  {
   "cell_type": "code",
   "execution_count": 29,
   "id": "c68fdf6f",
   "metadata": {},
   "outputs": [],
   "source": [
    "def fac(arg: int) -> int:\n",
    "    '''This function is used to calculate factorial of a no.'''\n",
    "    if arg <= 1:\n",
    "        return arg       \n",
    "    else:\n",
    "         return arg * fac(arg-1)        "
   ]
  },
  {
   "cell_type": "code",
   "execution_count": 30,
   "id": "cc0119de",
   "metadata": {},
   "outputs": [
    {
     "data": {
      "text/plain": [
       "6"
      ]
     },
     "execution_count": 30,
     "metadata": {},
     "output_type": "execute_result"
    }
   ],
   "source": [
    "fac(3)"
   ]
  },
  {
   "cell_type": "markdown",
   "id": "f8a1a6e2",
   "metadata": {},
   "source": [
    "# 12. Implement a recursive function to compute the nth Fibonacci number."
   ]
  },
  {
   "cell_type": "code",
   "execution_count": 31,
   "id": "8e6bc71f",
   "metadata": {},
   "outputs": [],
   "source": [
    "def fib(arg:int) -> int:\n",
    "    '''This is used to find the particular nth fibonacci number.'''\n",
    "    if arg <= 1:\n",
    "        return arg\n",
    "    else:\n",
    "        return fib(arg-1) + fib(arg-2)"
   ]
  },
  {
   "cell_type": "code",
   "execution_count": 32,
   "id": "b8431219",
   "metadata": {},
   "outputs": [
    {
     "data": {
      "text/plain": [
       "13"
      ]
     },
     "execution_count": 32,
     "metadata": {},
     "output_type": "execute_result"
    }
   ],
   "source": [
    "fib(7)"
   ]
  },
  {
   "cell_type": "markdown",
   "id": "a46a59c5",
   "metadata": {},
   "source": [
    "# 13. Create a recursive function to find the sum of all the elements in a given list."
   ]
  },
  {
   "cell_type": "code",
   "execution_count": 33,
   "id": "380c4c1e",
   "metadata": {},
   "outputs": [],
   "source": [
    "def sumation(arg: list, NoSum = 0) -> int:\n",
    "    '''This will return the sumation of all the elements of a given list.'''\n",
    "    if len(arg):\n",
    "        return sumation(arg[1:], NoSum+arg[0])\n",
    "    else:\n",
    "        return NoSum "
   ]
  },
  {
   "cell_type": "code",
   "execution_count": 34,
   "id": "25a4242a",
   "metadata": {},
   "outputs": [
    {
     "data": {
      "text/plain": [
       "40"
      ]
     },
     "execution_count": 34,
     "metadata": {},
     "output_type": "execute_result"
    }
   ],
   "source": [
    "sumation([1,2,3,3,2,3,4,4,5,1,1,2,2,3,4])"
   ]
  },
  {
   "cell_type": "markdown",
   "id": "29d9708c",
   "metadata": {},
   "source": [
    "# 14. Write a recursive function to determine whether a given string is a palindrome."
   ]
  },
  {
   "cell_type": "code",
   "execution_count": 35,
   "id": "e7f48d90",
   "metadata": {},
   "outputs": [],
   "source": [
    "def isPalindrome(s, i=0):\n",
    "    '''This will return if input string is Palindrom or not.'''\n",
    "    if(i > len(s)/2):\n",
    "        return 'Palindrom'\n",
    "    ans = 'Not Palindrom'\n",
    "    if((s[i] is s[len(s) - i - 1]) and isPalindrome(s, i + 1)):\n",
    "        ans = 'Palindrom'\n",
    "    return ans"
   ]
  },
  {
   "cell_type": "code",
   "execution_count": 36,
   "id": "43561fd3",
   "metadata": {},
   "outputs": [
    {
     "data": {
      "text/plain": [
       "'Palindrom'"
      ]
     },
     "execution_count": 36,
     "metadata": {},
     "output_type": "execute_result"
    }
   ],
   "source": [
    "isPalindrome('eye')"
   ]
  },
  {
   "cell_type": "code",
   "execution_count": 37,
   "id": "28cc4292",
   "metadata": {},
   "outputs": [
    {
     "data": {
      "text/plain": [
       "'Not Palindrom'"
      ]
     },
     "execution_count": 37,
     "metadata": {},
     "output_type": "execute_result"
    }
   ],
   "source": [
    "isPalindrome('cat')"
   ]
  },
  {
   "cell_type": "markdown",
   "id": "846f8b84",
   "metadata": {},
   "source": [
    "# 15. Implement a recursive function to find the greatest common divisor (GCD) of two positive integers."
   ]
  },
  {
   "cell_type": "code",
   "execution_count": 38,
   "id": "c6f48515",
   "metadata": {},
   "outputs": [],
   "source": [
    "def gcd(a:int, b:int) -> int:\n",
    "    '''You will get Greatest Common Divisior of the two numbers.'''\n",
    "    result = min(a, b) \n",
    "    while result:\n",
    "        if a % result == 0 and b % result == 0:\n",
    "            break\n",
    "        result -= 1 \n",
    "    return result"
   ]
  },
  {
   "cell_type": "code",
   "execution_count": 39,
   "id": "741a1411",
   "metadata": {},
   "outputs": [
    {
     "data": {
      "text/plain": [
       "120"
      ]
     },
     "execution_count": 39,
     "metadata": {},
     "output_type": "execute_result"
    }
   ],
   "source": [
    "gcd(360,600)"
   ]
  }
 ],
 "metadata": {
  "kernelspec": {
   "display_name": "Python 3 (ipykernel)",
   "language": "python",
   "name": "python3"
  },
  "language_info": {
   "codemirror_mode": {
    "name": "ipython",
    "version": 3
   },
   "file_extension": ".py",
   "mimetype": "text/x-python",
   "name": "python",
   "nbconvert_exporter": "python",
   "pygments_lexer": "ipython3",
   "version": "3.9.7"
  }
 },
 "nbformat": 4,
 "nbformat_minor": 5
}
