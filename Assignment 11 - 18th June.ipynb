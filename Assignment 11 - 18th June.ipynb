{
 "cells": [
  {
   "cell_type": "markdown",
   "id": "ffa7ea5d",
   "metadata": {},
   "source": [
    "# 1. What is the role of the 'else' block in a try-except statement? Provide an example scenario where it would be useful."
   ]
  },
  {
   "cell_type": "markdown",
   "id": "912eeb67",
   "metadata": {},
   "source": [
    "Ans:-\n",
    "    \n",
    "    The try block allow you to test a block of code of errors. Whereas the except block allow you to handle the error.\n",
    "    \n",
    "    The else block allows you to execut code when there is no error. i.e. it will execute successfully after successfully\n",
    "    execution of try block. that means no error in try block."
   ]
  },
  {
   "cell_type": "code",
   "execution_count": 1,
   "id": "79b3b6b3",
   "metadata": {},
   "outputs": [
    {
     "name": "stdout",
     "output_type": "stream",
     "text": [
      "Enter your first no: 12\n",
      "Enter your second no: 3\n",
      "4.0\n",
      "try block is executed successfully and there is no error in try block\n"
     ]
    }
   ],
   "source": [
    "try:\n",
    "    a = int(input('Enter your first no: '))\n",
    "    b = int(input('Enter your second no: '))\n",
    "    result = a / b\n",
    "    \n",
    "except:\n",
    "    print(f'There is an error')\n",
    "\n",
    "else:\n",
    "    print(result)\n",
    "    print('try block is executed successfully and there is no error in try block')"
   ]
  },
  {
   "cell_type": "markdown",
   "id": "7c247789",
   "metadata": {},
   "source": [
    "# 2. Can a try-except block be nested inside another try-except block? Explain with an example."
   ]
  },
  {
   "cell_type": "markdown",
   "id": "2ca5f85c",
   "metadata": {},
   "source": [
    "Ans:- \n",
    "    \n",
    "    We can have nested try-except block in Python. In this case, if an exception is raised in the nested try block, the\n",
    "    nested except block is used to handle it. \n",
    "    \n",
    "    In case the nested except is not able to handle it, the outer except blocks are used to handle the exception."
   ]
  },
  {
   "cell_type": "code",
   "execution_count": 2,
   "id": "6740b093",
   "metadata": {},
   "outputs": [
    {
     "name": "stdout",
     "output_type": "stream",
     "text": [
      "This is \"outer\" try block.\n",
      "This is \"Inner\" try block\n",
      "This is an \"Inner\" else block.\n",
      "This is an \"outer\" finally block.\n"
     ]
    }
   ],
   "source": [
    "try:\n",
    "    print('This is \"outer\" try block.')\n",
    "    \n",
    "    try:\n",
    "        print('This is \"Inner\" try block')\n",
    "    except Exception as e:\n",
    "        print(e, 'This is an \"Inner\" except block')\n",
    "    else:\n",
    "        print('This is an \"Inner\" else block.')\n",
    "except Exception as e:\n",
    "    print(e, 'This is \"outer\" except block.')\n",
    "finally:\n",
    "    print('This is an \"outer\" finally block.')"
   ]
  },
  {
   "cell_type": "markdown",
   "id": "d7fc61bd",
   "metadata": {},
   "source": [
    "# 3. How can you create a custom exception class in Python? Provide an example that demonstrates its usage."
   ]
  },
  {
   "cell_type": "markdown",
   "id": "29daddee",
   "metadata": {},
   "source": [
    "Ans:-\n",
    "    \n",
    "    In Python, we can define custom exceptions by creating a new class that is derived from the built-in Exception class."
   ]
  },
  {
   "cell_type": "code",
   "execution_count": 3,
   "id": "602983b9",
   "metadata": {},
   "outputs": [],
   "source": [
    "class NegativeNumberException(Exception):\n",
    "    pass"
   ]
  },
  {
   "cell_type": "code",
   "execution_count": 4,
   "id": "4a1a95be",
   "metadata": {},
   "outputs": [
    {
     "name": "stdout",
     "output_type": "stream",
     "text": [
      "Enter first no: 12\n",
      "Enter second no: -1\n",
      "Negative no. is not allow\n"
     ]
    }
   ],
   "source": [
    "try:\n",
    "        a = int(input('Enter first no: '))\n",
    "        b = int(input('Enter second no: '))\n",
    "        if a < 0 or b < 0:\n",
    "            raise NegativeNumberException('Negative no. is not allow')\n",
    "        c = a / b\n",
    "        print('Div is', c)\n",
    "except ValueError:\n",
    "        print('Please enter int only')\n",
    "except ZeroDivisionError:\n",
    "        print('Please enter no 0 denominator')\n",
    "except Exception as e:\n",
    "        print(e)"
   ]
  },
  {
   "cell_type": "markdown",
   "id": "6cd98dc8",
   "metadata": {},
   "source": [
    "# 4. What are some common exceptions that are built-in to Python?"
   ]
  },
  {
   "cell_type": "markdown",
   "id": "feecc31d",
   "metadata": {},
   "source": [
    "Ans:-\n",
    "    \n",
    "    These are some built-in exceptions in Python."
   ]
  },
  {
   "cell_type": "markdown",
   "id": "a16e4429",
   "metadata": {},
   "source": [
    "        Exception                     Description\n",
    "\n",
    "\n",
    "    1) ArithmeticError         Raised when an error occurs in numeric calculations\n",
    "\n",
    "    2) AssertionError          Raised when an assert statement fails\n",
    "\n",
    "    3) AttributeError          Raised when attribute reference or assignment fails\n",
    "\n",
    "    4) Exception               Base class for all exceptions\n",
    "\n",
    "    4) EOFError                Raised when the input() method hits an \"end of file\" condition (EOF)\n",
    "\n",
    "    5) FloatingPointError      Raised when a floating point calculation fails\n",
    "\n",
    "    5) GeneratorExit           Raised when a generator is closed (with the close() method)\n",
    "\n",
    "    6) ImportError             Raised when an imported module does not exist\n",
    "\n",
    "    7) IndentationError        Raised when indentation is not correct\n",
    "\n",
    "    8) IndexError              Raised when an index of a sequence does not exist\n",
    "\n",
    "    9) KeyError                Raised when a key does not exist in a dictionary\n",
    "\n",
    "    10) KeyboardInterrupt      Raised when the user presses Ctrl+c, Ctrl+z or Delete\n",
    "\n",
    "    11) LookupError            Raised when errors raised cant be found\n",
    "\n",
    "    12) MemoryError            Raised when a program runs out of memory\n",
    "\n",
    "    13) NameError              Raised when a variable does not exist\n",
    "\n",
    "    14) NotImplementedError    Raised when an abstract method requires an inherited class to override the method\n",
    "\n",
    "    15) OSError                Raised when a system related operation causes an error\n",
    "\n",
    "    16) OverflowError          Raised when the result of a numeric calculation is too large\n",
    "\n",
    "    17) ReferenceError         Raised when a weak reference object does not exist\n",
    "\n",
    "    18) RuntimeError           Raised when an error occurs that do not belong to any specific exceptions\n",
    "\n",
    "    19) StopIteration          Raised when the next() method of an iterator has no further values\n",
    "\n",
    "    20) SyntaxError            Raised when a syntax error occurs\n",
    "\n",
    "    21) TabError               Raised when indentation consists of tabs or spaces\n",
    "\n",
    "    22) SystemError            Raised when a system error occurs\n",
    "\n",
    "    23) SystemExit             Raised when the sys.exit() function is called\n",
    "\n",
    "    24) TypeError              Raised when two different types are combined\n",
    "\n",
    "    25) UnboundLocalError      Raised when a local variable is referenced before assignment\n",
    "\n",
    "    26) UnicodeError           Raised when a unicode problem occurs\n",
    "\n",
    "    27) UnicodeEncodeError     Raised when a unicode encoding problem occurs\n",
    "\n",
    "    28) UnicodeDecodeError     Raised when a unicode decoding problem occurs\n",
    "\n",
    "    29) UnicodeTranslateError  Raised when a unicode translation problem occurs\n",
    "\n",
    "    30) ValueError             Raised when there is a wrong value in a specified data type\n",
    "\n",
    "    31) ZeroDivisionError      Raised when the second operator in a division is zero"
   ]
  },
  {
   "cell_type": "markdown",
   "id": "9041414e",
   "metadata": {},
   "source": [
    "# 5. What is logging in Python, and why is it important in software development?"
   ]
  },
  {
   "cell_type": "markdown",
   "id": "90d21cda",
   "metadata": {},
   "source": [
    "Ans:-\n",
    "    \n",
    "    Logging is a way by which you will able to keep track of your error, your warning, your info, your debugging \n",
    "    each of everything.\n",
    "    \n",
    "    It is a simple way to write a messages.\n",
    "    \n",
    "    It is always give you flexibility to understand that what is a problem which happen with the code.\n",
    "    \n",
    "    When writing any complex script in Python, logging is very very important for debugging software as you develop it. \n",
    "    \n",
    "    Without logging, finding the source of a problem in your code may be extremely time consuming."
   ]
  },
  {
   "cell_type": "markdown",
   "id": "0364c53b",
   "metadata": {},
   "source": [
    "# 6. Explain the purpose of log levels in Python logging and provide examples of when each log level would be appropriate."
   ]
  },
  {
   "cell_type": "markdown",
   "id": "4fc36de8",
   "metadata": {},
   "source": [
    "Ans:-\n",
    "\n",
    "    There are six levels for logging in Python. Each level is associated with an ineger that indicates the log severity.\n",
    "    \n",
    "    NOTSET = 0\n",
    "    \n",
    "    DEBUG = 10\n",
    "    \n",
    "    INFO = 20\n",
    "    \n",
    "    WARNING = 30\n",
    "    \n",
    "    ERROR = 40\n",
    "    \n",
    "    CRITICAL = 50\n",
    "    \n",
    "    Logging is a very useful tul in programmer's toolbox. It can help you develop a better understanding of the flow of a\n",
    "    program and discover scenarios that you might not even have thought of while developing."
   ]
  },
  {
   "cell_type": "markdown",
   "id": "f63ef4b2",
   "metadata": {},
   "source": [
    "**When you want to debug your code**"
   ]
  },
  {
   "cell_type": "code",
   "execution_count": 5,
   "id": "10f605df",
   "metadata": {},
   "outputs": [],
   "source": [
    "import logging as lg"
   ]
  },
  {
   "cell_type": "code",
   "execution_count": 6,
   "id": "103abd45",
   "metadata": {},
   "outputs": [
    {
     "name": "stderr",
     "output_type": "stream",
     "text": [
      "DEBUG:root:This is debug log.\n"
     ]
    }
   ],
   "source": [
    "lg.basicConfig(level = lg.DEBUG)\n",
    "lg.debug('This is debug log.')"
   ]
  },
  {
   "cell_type": "markdown",
   "id": "6217fe82",
   "metadata": {},
   "source": [
    "**When you want to log some info**"
   ]
  },
  {
   "cell_type": "code",
   "execution_count": 7,
   "id": "11eaac74",
   "metadata": {},
   "outputs": [
    {
     "name": "stderr",
     "output_type": "stream",
     "text": [
      "INFO:root:This is info log.\n"
     ]
    }
   ],
   "source": [
    "lg.info('This is info log.')"
   ]
  },
  {
   "cell_type": "markdown",
   "id": "54b646a5",
   "metadata": {},
   "source": [
    "**When you want to log a message with a WARNING.**"
   ]
  },
  {
   "cell_type": "code",
   "execution_count": 8,
   "id": "e1681eaf",
   "metadata": {},
   "outputs": [
    {
     "name": "stderr",
     "output_type": "stream",
     "text": [
      "WARNING:root:This is WARNING log.\n"
     ]
    }
   ],
   "source": [
    "lg.warning('This is WARNING log.')"
   ]
  },
  {
   "cell_type": "markdown",
   "id": "44bb0923",
   "metadata": {},
   "source": [
    "**When you wan to log a a particular error**"
   ]
  },
  {
   "cell_type": "code",
   "execution_count": 9,
   "id": "0a5dd52f",
   "metadata": {},
   "outputs": [
    {
     "name": "stderr",
     "output_type": "stream",
     "text": [
      "ERROR:root:This is an error log.\n"
     ]
    }
   ],
   "source": [
    "lg.error('This is an error log.')"
   ]
  },
  {
   "cell_type": "markdown",
   "id": "e433268e",
   "metadata": {},
   "source": [
    "**When you wnat to log a critical message.**"
   ]
  },
  {
   "cell_type": "code",
   "execution_count": 10,
   "id": "30f4c9c2",
   "metadata": {},
   "outputs": [
    {
     "name": "stderr",
     "output_type": "stream",
     "text": [
      "CRITICAL:root:This is a critical log.\n"
     ]
    }
   ],
   "source": [
    "lg.critical('This is a critical log.')"
   ]
  },
  {
   "cell_type": "markdown",
   "id": "a3b5f8c9",
   "metadata": {},
   "source": [
    "# 7. What are log formatters in Python logging, and how can you customise the log message format using formatters?"
   ]
  },
  {
   "cell_type": "markdown",
   "id": "c1ec4b57",
   "metadata": {},
   "source": [
    "Ans:-\n",
    "    \n",
    "    The log formatter basically enriches a log messages by adding context information to it.\n",
    "    \n",
    "    It can be useful to know when the log is sent, where(Python file, line number, method etc.), and additional context \n",
    "    such as the thread and process."
   ]
  },
  {
   "cell_type": "markdown",
   "id": "99a80ad8",
   "metadata": {},
   "source": [
    "# 8. How can you set up logging to capture log messages from multiple modules or classes in a Python application?"
   ]
  },
  {
   "cell_type": "markdown",
   "id": "8c4b1e6b",
   "metadata": {},
   "source": [
    "Ans:-\n",
    "    \n",
    "    You can configure logging as shown above using the module and class functions or by creating a config file or a \n",
    "    dictionary and loading it using fileConfig() or dictConfig() respectively. These are useful in case you want to change \n",
    "    your logging configuration in a running application."
   ]
  },
  {
   "cell_type": "markdown",
   "id": "1cd8bc60",
   "metadata": {},
   "source": [
    "# 9. What is the difference between the logging and print statements in Python? When should you use logging over print statements in a real-world application?"
   ]
  },
  {
   "cell_type": "markdown",
   "id": "1255daef",
   "metadata": {},
   "source": [
    "Ans:-\n",
    "    \n",
    "                Logging in Python                                             Print in Python\n",
    "        \n",
    "    1) Record events and erros that occur during                    1) Displays the information to the console for the\n",
    "       the execution of Python programs.                               debugging purposes.\n",
    "       \n",
    "    2) Mainly used in the production environment.                   2) Mainly for debugging.\n",
    "    \n",
    "    3) Some features are: Log Levels, filtering,                    3) There are no good features.\n",
    "       formatting, and more.\n",
    "       \n",
    "    4) It provides different log levels such as                     4) It does not have any levels, it simply prints\n",
    "       Debug, Info, Warning, Error and Critical.                       whatever is passed to it.\n",
    "       \n",
    "    5) Example:                                                     5) Example:\n",
    "       \n",
    "       import logging                                                  print('Hello')\n",
    "       logging.basicConfig(level=logging.info)       \n",
    "       logging.info('Hello')                                           Output:\n",
    "                                                                         \n",
    "       Output:                                                         Print only on the console.\n",
    "       can be configured to log to different\n",
    "       output destinations\n",
    "       (e.g. console, file, network)"
   ]
  },
  {
   "cell_type": "markdown",
   "id": "218ad162",
   "metadata": {},
   "source": [
    "# 10. Write a Python program that logs a message to a file named \"app.log\" with the\n",
    "\n",
    "following requirements:    \n",
    "● The log message should be \"Hello, World!\"\n",
    "\n",
    "● The log level should be set to \"INFO.\"\n",
    "\n",
    "● The log file should append new log entries without overwriting previous ones"
   ]
  },
  {
   "cell_type": "code",
   "execution_count": 11,
   "id": "161a555d",
   "metadata": {},
   "outputs": [],
   "source": [
    "import logging as lg"
   ]
  },
  {
   "cell_type": "code",
   "execution_count": 12,
   "id": "5cac6bd1",
   "metadata": {},
   "outputs": [],
   "source": [
    "lg.basicConfig(filename = 'app.log', level = lg.INFO)"
   ]
  },
  {
   "cell_type": "code",
   "execution_count": 13,
   "id": "db120992",
   "metadata": {},
   "outputs": [
    {
     "name": "stderr",
     "output_type": "stream",
     "text": [
      "INFO:root:Hello, World!\n"
     ]
    }
   ],
   "source": [
    "lg.info(\"Hello, World!\")"
   ]
  },
  {
   "cell_type": "markdown",
   "id": "216419eb",
   "metadata": {},
   "source": [
    "# 11. Create a Python program that logs an error message to the console and a file named \"errors.log\" if an exception occurs during the program's execution. The error message should include the exception type and a timestamp."
   ]
  },
  {
   "cell_type": "code",
   "execution_count": 14,
   "id": "3db3694b",
   "metadata": {},
   "outputs": [],
   "source": [
    "import logging as lg"
   ]
  },
  {
   "cell_type": "code",
   "execution_count": 15,
   "id": "6267040f",
   "metadata": {},
   "outputs": [],
   "source": [
    "lg.basicConfig(filename = 'errors.log', level = lg.INFO, format = '%(asctime)s - %(message)s - %(levelname)s')"
   ]
  },
  {
   "cell_type": "code",
   "execution_count": 18,
   "id": "e227f971",
   "metadata": {},
   "outputs": [
    {
     "name": "stdout",
     "output_type": "stream",
     "text": [
      "Enter a first no: 12\n",
      "Enter a second no: 0\n"
     ]
    },
    {
     "name": "stderr",
     "output_type": "stream",
     "text": [
      "ERROR:root:division by zero\n"
     ]
    }
   ],
   "source": [
    "try:\n",
    "    a = int(input('Enter a first no: '))\n",
    "    b = int(input('Enter a second no: '))\n",
    "    result = a / b\n",
    "    lg.info(f'The result of a /b is {result}.')\n",
    "except Exception as e:\n",
    "    lg.error(e)"
   ]
  }
 ],
 "metadata": {
  "kernelspec": {
   "display_name": "Python 3 (ipykernel)",
   "language": "python",
   "name": "python3"
  },
  "language_info": {
   "codemirror_mode": {
    "name": "ipython",
    "version": 3
   },
   "file_extension": ".py",
   "mimetype": "text/x-python",
   "name": "python",
   "nbconvert_exporter": "python",
   "pygments_lexer": "ipython3",
   "version": "3.9.7"
  }
 },
 "nbformat": 4,
 "nbformat_minor": 5
}
