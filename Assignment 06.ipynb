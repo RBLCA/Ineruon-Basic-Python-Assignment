{
 "cells": [
  {
   "cell_type": "markdown",
   "id": "d272b92f",
   "metadata": {},
   "source": [
    "# Q.1. What are keywords in python? Using the keyword library, print all the python keywords"
   ]
  },
  {
   "cell_type": "markdown",
   "id": "2baaac72",
   "metadata": {},
   "source": [
    "**Keyword are nothing but a reserverd in python which having a special purpose.**"
   ]
  },
  {
   "cell_type": "code",
   "execution_count": 1,
   "id": "fbdc86cd",
   "metadata": {},
   "outputs": [],
   "source": [
    "import keyword"
   ]
  },
  {
   "cell_type": "code",
   "execution_count": 2,
   "id": "d51c4a9b",
   "metadata": {},
   "outputs": [
    {
     "name": "stdout",
     "output_type": "stream",
     "text": [
      "['False', 'None', 'True', '__peg_parser__', 'and', 'as', 'assert', 'async', 'await', 'break', 'class', 'continue', 'def', 'del', 'elif', 'else', 'except', 'finally', 'for', 'from', 'global', 'if', 'import', 'in', 'is', 'lambda', 'nonlocal', 'not', 'or', 'pass', 'raise', 'return', 'try', 'while', 'with', 'yield']\n"
     ]
    }
   ],
   "source": [
    "print(keyword.kwlist)"
   ]
  },
  {
   "cell_type": "markdown",
   "id": "37d3adcd",
   "metadata": {},
   "source": [
    "# Q.2. What are the rules to create variables in python?"
   ]
  },
  {
   "cell_type": "markdown",
   "id": "583278ae",
   "metadata": {},
   "source": [
    "**Ans:-**\n",
    "    \n",
    "    Variable are nothing but a kind of entities which help you to store or hold your data inside temporary type of memory \n",
    "    i.e RAM.\n",
    "    \n",
    "    Variable may contain letter, digits (0-9) or the underscore character.\n",
    "    \n",
    "    Variable names must be begin with a letter from A to Z or the underscore (_) character.\n",
    "    \n",
    "    Either lowercase or uppercase letter are acceptable.\n",
    "    \n",
    "    Variable name cannot start with a No. i.e.(0-9)\n",
    "    \n",
    "    Space not allowed in Variable.\n",
    "    \n",
    "    Variable are like:\n",
    "         \n",
    "            a = 10\n",
    "            A2 = 'Ineuron'\n",
    "            A_1 = [1,2,3,4,5]"
   ]
  },
  {
   "cell_type": "markdown",
   "id": "3fb412ba",
   "metadata": {},
   "source": [
    "# Q.3. What are the standards and conventions followed for the nomenclature of variables in python to improve code readability and maintainability?"
   ]
  },
  {
   "cell_type": "markdown",
   "id": "05c6bb6b",
   "metadata": {},
   "source": [
    "**Ans:-**\n",
    "    \n",
    "    In Python, variable names should be lowercase or uppercase, with words seperated by underscore.\n",
    "    \n",
    "    Variable names in Python doesn't have any particular length, it can be anything  in length.\n",
    "    \n",
    "    The first character of a varible can't be a digit."
   ]
  },
  {
   "cell_type": "markdown",
   "id": "3bc0b635",
   "metadata": {},
   "source": [
    "# Q.4. What will happen if a keyword is used as a variable name?"
   ]
  },
  {
   "cell_type": "markdown",
   "id": "90334fbc",
   "metadata": {},
   "source": [
    "**Ans:-**\n",
    "    \n",
    "    As per standards keyword can't be a variable name. It will give a syntax error like below."
   ]
  },
  {
   "cell_type": "code",
   "execution_count": 3,
   "id": "ae20520d",
   "metadata": {},
   "outputs": [
    {
     "ename": "SyntaxError",
     "evalue": "invalid syntax (Temp/ipykernel_12104/1758765363.py, line 1)",
     "output_type": "error",
     "traceback": [
      "\u001b[1;36m  File \u001b[1;32m\"C:\\Users\\Admin\\AppData\\Local\\Temp/ipykernel_12104/1758765363.py\"\u001b[1;36m, line \u001b[1;32m1\u001b[0m\n\u001b[1;33m    for = 12\u001b[0m\n\u001b[1;37m        ^\u001b[0m\n\u001b[1;31mSyntaxError\u001b[0m\u001b[1;31m:\u001b[0m invalid syntax\n"
     ]
    }
   ],
   "source": [
    "for = 12"
   ]
  },
  {
   "cell_type": "markdown",
   "id": "61d86942",
   "metadata": {},
   "source": [
    "# Q.5. For what purpose def keyword is used?"
   ]
  },
  {
   "cell_type": "markdown",
   "id": "0deb5b8e",
   "metadata": {},
   "source": [
    "**Ans:-**\n",
    "    \n",
    "    def is a reserved keyword to define a function."
   ]
  },
  {
   "cell_type": "code",
   "execution_count": 4,
   "id": "b720c91a",
   "metadata": {},
   "outputs": [],
   "source": [
    "def  addtion(a,b):\n",
    "    \"\"\"This function is used for addtion or cocatenation.\"\"\"\n",
    "    return a+b"
   ]
  },
  {
   "cell_type": "code",
   "execution_count": 5,
   "id": "68c0de60",
   "metadata": {},
   "outputs": [
    {
     "data": {
      "text/plain": [
       "15"
      ]
     },
     "execution_count": 5,
     "metadata": {},
     "output_type": "execute_result"
    }
   ],
   "source": [
    "addtion(10,5)"
   ]
  },
  {
   "cell_type": "markdown",
   "id": "f233dea4",
   "metadata": {},
   "source": [
    "# Q.6. What is the operation of this special character ‘\\’?"
   ]
  },
  {
   "cell_type": "markdown",
   "id": "a8a88ed2",
   "metadata": {},
   "source": [
    "**Ans:-**\n",
    "    \n",
    "    In Python strings, the backslash '\\' is special character, it is also known as 'escape' character.\n",
    "    \n",
    "    It is used to represent certain amount of whitespace character.\n",
    "    \n",
    "    '\\t' -------> for a tab.\n",
    "    \n",
    "    '\\n' -------> for a newline.\n",
    "    \n",
    "    '\\r' -------> for a return carriage."
   ]
  },
  {
   "cell_type": "markdown",
   "id": "75bb665c",
   "metadata": {},
   "source": [
    "# Q.7. Give an example of the following conditions:\n",
    "(i) Homogeneous list\n",
    "\n",
    "(ii) Heterogeneous set\n",
    "\n",
    "(iii) Homogeneous tuple"
   ]
  },
  {
   "cell_type": "markdown",
   "id": "d6588f05",
   "metadata": {},
   "source": [
    "**Homogenous list**"
   ]
  },
  {
   "cell_type": "code",
   "execution_count": 6,
   "id": "53ff902a",
   "metadata": {},
   "outputs": [
    {
     "data": {
      "text/plain": [
       "['Sugar', 'Oil', 'Toothpaste', 'Salt']"
      ]
     },
     "execution_count": 6,
     "metadata": {},
     "output_type": "execute_result"
    }
   ],
   "source": [
    "my_list = ['Sugar', 'Oil', 'Toothpaste', 'Salt']\n",
    "my_list"
   ]
  },
  {
   "cell_type": "markdown",
   "id": "ecaa9078",
   "metadata": {},
   "source": [
    "**Hetrogenous set**"
   ]
  },
  {
   "cell_type": "code",
   "execution_count": 7,
   "id": "31f16c3c",
   "metadata": {},
   "outputs": [
    {
     "data": {
      "text/plain": [
       "{(121, 21, 32), 1, 12.21, 2, 3, 'Ineuron'}"
      ]
     },
     "execution_count": 7,
     "metadata": {},
     "output_type": "execute_result"
    }
   ],
   "source": [
    "my_set = {1,2,3,12.21, 'Ineuron', (121,21,32)}\n",
    "my_set"
   ]
  },
  {
   "cell_type": "markdown",
   "id": "5d54e9f8",
   "metadata": {},
   "source": [
    "**Homogenous tuple**"
   ]
  },
  {
   "cell_type": "code",
   "execution_count": 8,
   "id": "36dcdd08",
   "metadata": {},
   "outputs": [
    {
     "data": {
      "text/plain": [
       "(12, 21, 23, 4, 2, 1, 2321)"
      ]
     },
     "execution_count": 8,
     "metadata": {},
     "output_type": "execute_result"
    }
   ],
   "source": [
    "my_tuple = (12,21,23,4,2,1,2321)\n",
    "my_tuple"
   ]
  },
  {
   "cell_type": "markdown",
   "id": "091910a2",
   "metadata": {},
   "source": [
    "# Q.8. Explain the mutable and immutable data types with proper explanation & examples."
   ]
  },
  {
   "cell_type": "markdown",
   "id": "cf6bc6a1",
   "metadata": {},
   "source": [
    "**Mutable**:- Mutable data type are those data type where item can be change or we can add extra item.list, dictioary, set are mutable data type."
   ]
  },
  {
   "cell_type": "code",
   "execution_count": 9,
   "id": "fff9d19f",
   "metadata": {},
   "outputs": [],
   "source": [
    "my_list = ['ineuron', 'FSDS', 'DS']"
   ]
  },
  {
   "cell_type": "code",
   "execution_count": 10,
   "id": "0802e883",
   "metadata": {},
   "outputs": [
    {
     "data": {
      "text/plain": [
       "['Google', 'FSDS', 'DS']"
      ]
     },
     "execution_count": 10,
     "metadata": {},
     "output_type": "execute_result"
    }
   ],
   "source": [
    "my_list[0] = 'Google'\n",
    "my_list"
   ]
  },
  {
   "cell_type": "markdown",
   "id": "7232f9c0",
   "metadata": {},
   "source": [
    "As you seen in above example list are mutable data type."
   ]
  },
  {
   "cell_type": "markdown",
   "id": "171c4edc",
   "metadata": {},
   "source": [
    "**Immutable:-** Immutable data type are those where we can't change anything inside or we can reassing the  item inside the data type.\n",
    "\n",
    "ex:- Integer, Float , Boolean, String, Tuple, are immutable data type."
   ]
  },
  {
   "cell_type": "code",
   "execution_count": 11,
   "id": "135fee7f",
   "metadata": {},
   "outputs": [],
   "source": [
    "my_string = 'Ineuron is the best platform to learn Data Science'"
   ]
  },
  {
   "cell_type": "code",
   "execution_count": 12,
   "id": "51483f26",
   "metadata": {},
   "outputs": [
    {
     "ename": "TypeError",
     "evalue": "'str' object does not support item assignment",
     "output_type": "error",
     "traceback": [
      "\u001b[1;31m---------------------------------------------------------------------------\u001b[0m",
      "\u001b[1;31mTypeError\u001b[0m                                 Traceback (most recent call last)",
      "\u001b[1;32m~\\AppData\\Local\\Temp/ipykernel_12104/2242027905.py\u001b[0m in \u001b[0;36m<module>\u001b[1;34m\u001b[0m\n\u001b[1;32m----> 1\u001b[1;33m \u001b[0mmy_string\u001b[0m\u001b[1;33m[\u001b[0m\u001b[1;36m0\u001b[0m\u001b[1;33m]\u001b[0m \u001b[1;33m=\u001b[0m \u001b[1;34m'The'\u001b[0m\u001b[1;33m\u001b[0m\u001b[1;33m\u001b[0m\u001b[0m\n\u001b[0m",
      "\u001b[1;31mTypeError\u001b[0m: 'str' object does not support item assignment"
     ]
    }
   ],
   "source": [
    "my_string[0] = 'The'"
   ]
  },
  {
   "cell_type": "markdown",
   "id": "08265dcd",
   "metadata": {},
   "source": [
    "As you seen in above it gives an error beacause string is an immutable data type."
   ]
  },
  {
   "cell_type": "markdown",
   "id": "064c3673",
   "metadata": {},
   "source": [
    "# # Q.9. Write a code to create the given structure using only for loop."
   ]
  },
  {
   "cell_type": "markdown",
   "id": "a4bf10e7",
   "metadata": {},
   "source": [
    "          *\n",
    "         ***\n",
    "        *****\n",
    "       *******\n",
    "      *********"
   ]
  },
  {
   "cell_type": "code",
   "execution_count": 13,
   "id": "f016440e",
   "metadata": {},
   "outputs": [
    {
     "name": "stdout",
     "output_type": "stream",
     "text": [
      "    *     \n",
      "   ***    \n",
      "  *****   \n",
      " *******  \n",
      "********* \n"
     ]
    }
   ],
   "source": [
    "a = 10\n",
    "for i in range(1,a,2):\n",
    "    if i <a:\n",
    "        n = i\n",
    "    print(('*'*n).center(10, ' '))"
   ]
  },
  {
   "cell_type": "markdown",
   "id": "d033c374",
   "metadata": {},
   "source": [
    "# Q.10. Write a code to create the given structure using while loop."
   ]
  },
  {
   "cell_type": "markdown",
   "id": "15002adf",
   "metadata": {},
   "source": [
    "    |||||||||\n",
    "     |||||||\n",
    "      |||||\n",
    "       |||\n",
    "        |"
   ]
  },
  {
   "cell_type": "code",
   "execution_count": 14,
   "id": "59ca7250",
   "metadata": {},
   "outputs": [
    {
     "name": "stdout",
     "output_type": "stream",
     "text": [
      "||||||||| \n",
      " |||||||  \n",
      "  |||||   \n",
      "   |||    \n",
      "    |     \n"
     ]
    }
   ],
   "source": [
    "b = 9\n",
    "while b>0:\n",
    "    print(('|' * b).center(10, ' '))\n",
    "    b -= 2"
   ]
  }
 ],
 "metadata": {
  "kernelspec": {
   "display_name": "Python 3 (ipykernel)",
   "language": "python",
   "name": "python3"
  },
  "language_info": {
   "codemirror_mode": {
    "name": "ipython",
    "version": 3
   },
   "file_extension": ".py",
   "mimetype": "text/x-python",
   "name": "python",
   "nbconvert_exporter": "python",
   "pygments_lexer": "ipython3",
   "version": "3.9.7"
  }
 },
 "nbformat": 4,
 "nbformat_minor": 5
}
